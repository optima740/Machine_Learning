{
  "nbformat": 4,
  "nbformat_minor": 0,
  "metadata": {
    "colab": {
      "name": "ML1-1.ipynb",
      "provenance": [],
      "collapsed_sections": []
    },
    "kernelspec": {
      "name": "python3",
      "display_name": "Python 3"
    }
  },
  "cells": [
    {
      "cell_type": "markdown",
      "metadata": {
        "id": "yqFyzPDuFDvI",
        "colab_type": "text"
      },
      "source": [
        "#**Первое занятие по PyTorch**\n",
        "\n",
        "Изучаем основные понятия и три ключевых пакета PyTorch, разбираемся, как формируется стандартный, универсальный алгоритм построения и анализа модели.\n",
        "\n",
        "Этот алгоритм вы сможете сразу использовать для проверки самых разных гипотез.\n",
        "\n",
        "\n",
        "---\n",
        "\n"
      ]
    },
    {
      "cell_type": "markdown",
      "metadata": {
        "id": "fI4Zv-dtka20",
        "colab_type": "text"
      },
      "source": [
        "\n",
        "*Дискламер: местами будут использоваться явные англицизмы -- чтобы быть в курсе, довольно часто они используются в тематических обсуждениях на русскоязычных форумах, и более компактны и наглядны.*\n",
        "\n",
        "\n",
        "---\n",
        "\n",
        "**Параллельно очень рекомендую к прочтению эту серию статей (перевод книги Майкла Нильсена \"Neural Networks and Deep Learning\")**\n",
        "https://habr.com/ru/post/463171/\n",
        "\n",
        "В ней подробно рассматривается вся базовая теория нейронных сетей и глубокого обучения.\n",
        "\n",
        "---\n",
        "\n",
        "##**Простая линейная регрессия**\n",
        "\n",
        "Есть простая линейная функция,  \n",
        "\n",
        "`y = 1 + 2 * x + шум`\n",
        "\n",
        "которая в контексте машинного обучения трактуется как прогнозирование некоторых результатов. \n",
        "\n",
        "x -- это **входные данные, признаки (features)**;\n",
        "y -- это **прогноз**.\n",
        "\n",
        "Например, если автомобиль едет с линейной скоростью, то пройденное им расстояние зависит от времени езды. В данных из реальной жизни в такой зависимости всегда будет шум -- скорость всё время немножечко плавает, возможны остановки на светофорах и т. д.\n",
        "\n",
        "Принципиальный момент. Чем вообще мы занимаемся?\n",
        "\n",
        "В нашей функции есть два коэффициента 1 и 2, или в общем случае\n",
        "\n",
        "`y = a + b * x`\n",
        "\n",
        "это коэффициенты (**параметры**) a и b, которые ещё называются **метки (labels)**.\n",
        "\n",
        "Про наши данные (например, набор пар значений \"время - расстояние\") мы знаем только, что они с большой вероятностью моделируются подобной линейной регрессией. То есть то, что нам надо найти -- это такие a и b, что соответствующая функция будет выдавать значения, как можно более близкие к обучающим.\n",
        "\n",
        "\n",
        "---\n",
        "\n",
        "\n",
        "\n"
      ]
    },
    {
      "cell_type": "markdown",
      "metadata": {
        "id": "25-CG5zmmtya",
        "colab_type": "text"
      },
      "source": [
        "##**Немного теории: градиентный спуск**\n",
        "\n",
        "**Градиент (gradient)** -- это частная производная (производная по одной  конкретной переменной).\n",
        "\n",
        "*Кто не помнит школьный курс математики, производная -- это просто скорость изменения чего-то. Например, если вы едете с фиксированной скоростью, она не меняется, то и производная её (ускорение) будет равно нулю. А если скорость всё время растёт, то и градиент (ускорение) будет больше нуля, и тем он будет больше, чем сильнее увеличивается скорость.*\n",
        "\n",
        "В общем случае модель включает в себя множество параметров (скорость автомобиля -- это функция от множества критериев), и градиент показывает, как сильно меняется (со временем например) какой-то один конкретный параметр (считаем частную производную по этому параметру), подразумевая, что остальные если и меняются, то незначительно.\n",
        "\n",
        "**Лосс (loss)** -- ошибка, погрешность (например, среднеквадратическая ошибка).\n",
        "\n",
        "Оптимизационный механизм, отыскивающий нужные нам коэффициенты, называется \"**градиентный спуск**\" (подобных алгоритмов много). Его работа складывается из четырёх шагов.\n",
        "\n",
        "1) считаем лосс (стратегически стремимся к его минимизации).\n",
        "\n",
        "2) вычисляем градиенты. \n",
        "\n",
        "У нас в модели, как уже говорилось, есть два параметра a и b, для которых мы должны считать градиенты. Мы хотим определить, как будет меняться лосс при изменении каждого из этих параметров.\n",
        "\n",
        "3) обновляем параметры. Так как мы хотим минимизировать лосс, то градиенты берутся с обратным знаком, и учитывается также коэффициент скорости обучения.\n",
        "\n",
        "**Скорость обучения (learning rate)** -- некоторый коэффициент, который учитывается при изменении параметров в градиентном спуске.\n",
        "\n",
        "4) при необходимости проверяем что получилось, и переходим к п.1.\n",
        "\n",
        "Такой цикл из четырёх шагов называется **эпоха (epoch)**.\n",
        "Эпоха -- один цикл оптимизации (например, шаг градиентного спуска), когда была пересчитана каждая точка выборки.\n",
        "\n",
        "\n",
        "---\n",
        "\n",
        "\n",
        "\n"
      ]
    },
    {
      "cell_type": "markdown",
      "metadata": {
        "id": "GZht9-DMpNmk",
        "colab_type": "text"
      },
      "source": [
        "##**Градиентный спуск на базе NumPy**\n",
        "\n",
        "Реализуем сперва градиентный спуск классическим способом: только с помощью стандартной библиотеки численных методов NumPy.\n",
        "\n",
        "\n",
        "---\n",
        "\n"
      ]
    },
    {
      "cell_type": "markdown",
      "metadata": {
        "id": "zL87rRR0TJeE",
        "colab_type": "text"
      },
      "source": [
        "Подробное введение в линейную алгебру и NumPy для начинающих:\n",
        "\n",
        "https://github.com/DLSchool/dlschool/tree/master/02.%20Linear%20Algebra%2C%20Numpy\n",
        "\n",
        "\n",
        "---\n",
        "\n"
      ]
    },
    {
      "cell_type": "markdown",
      "metadata": {
        "id": "bsd8wI9uUVDY",
        "colab_type": "text"
      },
      "source": [
        "Введение в Matplotlib (рисуем графики):\n",
        "\n",
        "https://github.com/DLSchool/dlschool/tree/master/03.%20Pandas%2C%20Matplotlib%2C%20ML%20basics\n",
        "\n",
        "\n",
        "---\n",
        "\n"
      ]
    },
    {
      "cell_type": "markdown",
      "metadata": {
        "id": "T1_wBE0WU1Z8",
        "colab_type": "text"
      },
      "source": [
        "Введение в линейные модели и градиентный спуск:\n",
        "\n",
        "https://github.com/DLSchool/dlschool/tree/master/04.%20Linear%20Models\n",
        "\n",
        "\n",
        "---\n",
        "\n"
      ]
    },
    {
      "cell_type": "code",
      "metadata": {
        "id": "TsY44JTKBhQA",
        "colab_type": "code",
        "outputId": "89924dbe-7c02-49f9-c585-1b6e047c79f9",
        "colab": {
          "base_uri": "https://localhost:8080/",
          "height": 545
        }
      },
      "source": [
        "# \n",
        "# оригинал\n",
        "# https://towardsdatascience.com/understanding-pytorch-with-an-example-a-step-by-step-tutorial-81fc5f8c4e8e\n",
        "\n",
        "import numpy as np\n",
        "import matplotlib.pyplot as plt \n",
        "\n",
        "# инициализация повторяемой последовательности случайных чисел\n",
        "np.random.seed(42) \n",
        "\n",
        "# создаём np-массив из 100 случайных чисел в диапазоне 0..1\n",
        "sz = 100\n",
        "x = np.random.rand(sz, 1) \n",
        "\n",
        "# строим функцию y = f(x) и добавляем немного гауссова шума\n",
        "y = 1 + 2 * x + 0.1 * np.random.randn(sz, 1) \n",
        "\n",
        "# формируем индексы от 0 до 99 \n",
        "idx = np.arange(sz)\n",
        "# случайно их тасуем\n",
        "np.random.shuffle(idx)\n",
        "\n",
        "\n",
        "# первые 80 случайных индексов (значений x) используем для обучения\n",
        "sz80 = (int)(sz*0.8)\n",
        "train_idx = idx[: sz80]\n",
        "\n",
        "# оставшиеся 20 -- для валидации\n",
        "val_idx = idx[sz80:]\n",
        "\n",
        "# формируем наборы обучающих данных\n",
        "x_train, y_train = x[train_idx], y[train_idx]\n",
        "# и наборы для валидации\n",
        "x_val, y_val = x[val_idx], y[val_idx]\n",
        "\n",
        "# выводим на экран\n",
        "plt.scatter(x_train, y_train) \n",
        "plt.title('Обучающая выборка') \n",
        "plt.show()\n",
        "plt.scatter(x_val, y_val, color= \"red\") \n",
        "plt.title('Проверочная выборка') \n",
        "plt.show()\n",
        "\n"
      ],
      "execution_count": 0,
      "outputs": [
        {
          "output_type": "display_data",
          "data": {
            "image/png": "[encoded data removed]",
            "text/plain": [
              "<Figure size 432x288 with 1 Axes>"
            ]
          },
          "metadata": {
            "tags": []
          }
        },
        {
          "output_type": "display_data",
          "data": {
            "image/png": "[encoded data removed]",
            "text/plain": [
              "<Figure size 432x288 with 1 Axes>"
            ]
          },
          "metadata": {
            "tags": []
          }
        }
      ]
    },
    {
      "cell_type": "code",
      "metadata": {
        "id": "GA1VF9YHUtmy",
        "colab_type": "code",
        "outputId": "47d8885e-eaa2-449f-da36-bb36e6a33601",
        "colab": {
          "base_uri": "https://localhost:8080/",
          "height": 51
        }
      },
      "source": [
        "np.random.seed(42)\n",
        "\n",
        "# задаём начальные случайные значения коэффициентам линейной регрессии \n",
        "a = np.random.randn(1)\n",
        "b = np.random.randn(1)\n",
        "print(a,b)\n",
        "\n",
        "# скорость обучения\n",
        "lr = 0.1\n",
        "# количество эпох\n",
        "n_epochs = 1000\n",
        "\n",
        "# основной цикл\n",
        "for epoch in range(n_epochs):\n",
        "  \n",
        "    # рассчитываем результирующий массив с текущими коэффициентами a и b\n",
        "    # на основе обучающей выборки \n",
        "    yhat = a + b * x_train\n",
        "    \n",
        "    # 1. определяем лосс\n",
        "    # сперва считаем отклонение нового результата от обучающего:\n",
        "    error = (y_train - yhat)\n",
        "    # и затем считаем среднеквадратическую ошибку:\n",
        "    loss = (error ** 2).mean()\n",
        "    \n",
        "    # 2. считаем градиенты (вспоминая формулу производной)\n",
        "    # для коэффициента a\n",
        "    a_grad = -2 * error.mean()\n",
        "    # для коэффициента b\n",
        "    b_grad = -2 * (x_train * error).mean()\n",
        "    \n",
        "    # 3. обновляем параметры, используя коэффициент скорости обучения, \n",
        "    # градиенты берём с обратным знаком\n",
        "    a = a - lr * a_grad\n",
        "    b = b - lr * b_grad\n",
        "print(a,b)    \n"
      ],
      "execution_count": 0,
      "outputs": [
        {
          "output_type": "stream",
          "text": [
            "[0.49671415] [-0.1382643]\n",
            "[1.02354094] [1.96896411]\n"
          ],
          "name": "stdout"
        }
      ]
    },
    {
      "cell_type": "markdown",
      "metadata": {
        "id": "Y1qI2IV2pxyO",
        "colab_type": "text"
      },
      "source": [
        "Итак, исходные коэффициенты были очень далеки от оригинальных:\n",
        "[0.49671415] [-0.1382643]\n",
        "\n",
        "Но итоговые результаты оказались весьма близки к ним:\n",
        "[1.02354094] [1.96896411]\n",
        "\n",
        "Более того, на основании нашей случайной выборки какие-то более точные значения коэффициентов получить уже практически нельзя.\n",
        "\n",
        "\n",
        "---\n",
        "\n"
      ]
    },
    {
      "cell_type": "markdown",
      "metadata": {
        "id": "dnxBhwkHp_z8",
        "colab_type": "text"
      },
      "source": [
        "##**Тензоры**\n",
        "\n",
        "В пакетах машинного обучения основная работа ведётся как правило с тензорами.\n",
        "\n",
        "**Тензор** -- это обычно вектор (одномерный массив), двумерный массив (матрица), в общем случае многомерный массив. \n",
        "\n",
        "Операции над тензорами очень эффективно выполняются графическими процессорами, поэтому библиотеки машинного обучения оптимизируются под GPU.\n",
        "\n",
        "Над тензорами возможны как обычные арифметические матричные операции, так и множество дополнительных действий. \n",
        "\n",
        "**Скаляр** -- это массив с нулём измерений, или просто одно число.\n",
        "\n",
        "\n",
        "---\n",
        "\n",
        "\n"
      ]
    },
    {
      "cell_type": "markdown",
      "metadata": {
        "id": "fPMCGh3qVe-k",
        "colab_type": "text"
      },
      "source": [
        "Введение и практика с тензорами на PyTorch, рекомендую пройти:\n",
        "\n",
        "https://github.com/DLSchool/dlschool/blob/master/06.%20PyTorch/%5Bseminar%5Dpytorch_basics.ipynb\n",
        "\n",
        "\n",
        "---\n",
        "\n"
      ]
    },
    {
      "cell_type": "markdown",
      "metadata": {
        "id": "7Hv1alqxqhmE",
        "colab_type": "text"
      },
      "source": [
        "##**Берёмся за PyTorch**\n",
        "\n",
        "В PyTorch активно применяется понятие девайса.\n",
        "\n",
        "**Девайс (device)** -- устройство, на котором обрабатываются тензоры (графический процессор или обычный).\n",
        "\n",
        "Начало работы с PyTorch обычно строится по типовому шаблону:\n",
        "\n",
        "-- проверяем, доступны ли ресурсы GPU;\n",
        "\n",
        "-- готовим наши данные, преобразовывая в формат тензоров (для массивов NumPy это функция from_numpy);\n",
        "\n",
        "-- при желании данные можно привести к типу меньшей точности (например, 32-разрядному float), чтобы сэкономить ресурсы;\n",
        "\n",
        "-- выгружаем данные на конкретный девайс (GPU или обычный процессор) с помощью функции to().\n",
        "\n",
        "Тип тензора можно получить методом type(), который вернёт, например, torch.FloatTensor, если используется обычный процессор, или torch.cuda.FloatTensor, если GPU.\n"
      ]
    },
    {
      "cell_type": "code",
      "metadata": {
        "id": "G6aeaa5fZqpK",
        "colab_type": "code",
        "outputId": "9fbf09bc-c984-44c8-9843-ff1a76f00641",
        "colab": {
          "base_uri": "https://localhost:8080/",
          "height": 51
        }
      },
      "source": [
        "import torch # подключаем основной пакет PyTorch\n",
        "\n",
        "# стандартная команда настройки девайса на GPU\n",
        "device = 'cuda' if torch.cuda.is_available() else 'cpu'\n",
        "print(device)\n",
        "\n",
        "# Наши исходные данные хранятся в формате массивов NumPy, \n",
        "# требуется преобразовать их в формат тензоров PyTorch,\n",
        "# привести к типу float и выгрузить на девайс\n",
        "x_train_tensor = torch.from_numpy(x_train).float().to(device)\n",
        "y_train_tensor = torch.from_numpy(y_train).float().to(device)\n",
        "print(x_train_tensor.type())"
      ],
      "execution_count": 0,
      "outputs": [
        {
          "output_type": "stream",
          "text": [
            "cpu\n",
            "torch.FloatTensor\n"
          ],
          "name": "stdout"
        }
      ]
    },
    {
      "cell_type": "markdown",
      "metadata": {
        "id": "Ns0XT4uYrQ6g",
        "colab_type": "text"
      },
      "source": [
        "Теперь запрограммируем градиентный спуск, те же четыре шага, с помощью PyTorch.\n",
        "\n",
        "Сперва проинициализируем параметры (тензоры) a и b, используя случайные функции PyTorch.\n",
        "\n",
        "В параметрах функции генерации случайного значения torch.randn() в дополнение к понятным параметрам dtype (желаемый тип результирующего тензора) и целевой девайс (device), указывается очень важный requires_grad = True. Его смысл подробнее рассмотрим позже, но основная его идея в том, что он задаёт автоматическое вычисление градиента для данного тензора. Мы ведь считаем градиенты именно по этим двум параметрам a и b."
      ]
    },
    {
      "cell_type": "code",
      "metadata": {
        "id": "YwVawk-PHnVW",
        "colab_type": "code",
        "outputId": "b34ef444-8874-4178-f523-34899f2e696c",
        "colab": {
          "base_uri": "https://localhost:8080/",
          "height": 34
        }
      },
      "source": [
        "# инициализация повторяемой посл-ти случайных чисел\n",
        "torch.manual_seed(42)\n",
        "\n",
        "# задаём начальные случайные значения коэффициентам линейной регрессии \n",
        "a = torch.randn(1, requires_grad=True, dtype=torch.float, device=device)\n",
        "b = torch.randn(1, requires_grad=True, dtype=torch.float, device=device)\n",
        "print(a, b)"
      ],
      "execution_count": 0,
      "outputs": [
        {
          "output_type": "stream",
          "text": [
            "tensor([0.3367], requires_grad=True) tensor([0.1288], requires_grad=True)\n"
          ],
          "name": "stdout"
        }
      ]
    },
    {
      "cell_type": "markdown",
      "metadata": {
        "id": "Q6At-XHNsAUE",
        "colab_type": "text"
      },
      "source": [
        "Мы получим такой результат: \n",
        "tensor([0.3367], requires_grad=True) tensor([0.1288], requires_grad=True)\n",
        "(значения a и b могут быть другими, в зависимости от версии PyTorch).\n",
        "\n",
        "\n",
        "---\n",
        "\n",
        "\n"
      ]
    },
    {
      "cell_type": "markdown",
      "metadata": {
        "id": "6fMgF9nksRl8",
        "colab_type": "text"
      },
      "source": [
        "##**Autograd: автоматизируем расчёт градиентов**\n",
        "\n",
        "Autograd -- пакет автоматического дифференцирования PyTorch (один из трёх ключевых). Он очень крутой: можно забыть про частные производные, ручное программирование формул производных и многую другую математику -- теперь она скрыта под капотом autograd!\n",
        "\n",
        "https://pytorch.org/docs/stable/autograd.html?highlight=autograd#module-torch.autograd\n",
        "\n",
        "Нам теперь не нужно вручную программировать производные -- **вычисления всех градиентов выполняет универсальный метод backward()**. Так как мы вычисляем частные производные для лосса, к нему этот метод и применяем, вся магия совершится автоматически внутри него. А текущие значения градиентов мы можем получить обращением к атрибуту **grad** соответствующего тензора.\n",
        "\n",
        "Однако если далее мы захотим обновить параметры по старой схеме, появятся ошибки.\n",
        "\n"
      ]
    },
    {
      "cell_type": "code",
      "metadata": {
        "id": "fRNMuJ4dgV-I",
        "colab_type": "code",
        "outputId": "86e78521-a0c0-4e3e-a024-a5808bfcd830",
        "colab": {
          "base_uri": "https://localhost:8080/",
          "height": 34
        }
      },
      "source": [
        "# скорость обучения\n",
        "lr = 0.1\n",
        "\n",
        "# количество эпох\n",
        "n_epochs = 1000 \n",
        "\n",
        "for epoch in range(n_epochs):\n",
        "  \n",
        "    # как и в примере с numpy, записываем нашу линейную зависимость,\n",
        "    # только теперь в качестве обучающей выборки -- тензор\n",
        "    yhat = a + b * x_train_tensor\n",
        "    \n",
        "    # 1. считаем лосс как и раньше\n",
        "    error = y_train_tensor - yhat\n",
        "    loss = (error ** 2).mean()\n",
        "\n",
        "    # 2. вычисляем градиенты автоматически!\n",
        "    loss.backward()\n",
        "    \n",
        "    \n",
        "    # ПЕРВАЯ ПОПЫТКА (неверно)\n",
        "    # TypeError: unsupported operand type(s) for *: 'float' and 'NoneType'\n",
        "    # a = a - lr * a.grad\n",
        "    # b = b - lr * b.grad\n",
        "\n",
        "    # ВТОРАЯ ПОПЫТКА (неверно)\n",
        "    # RuntimeError: a leaf Variable that requires grad has been used in an in-place operation.\n",
        "    # a -= lr * a.grad\n",
        "    # b -= lr * b.grad        \n",
        "    \n",
        "    # ТРЕТЬЯ ПОПЫТКА (верно)\n",
        "    with torch.no_grad():\n",
        "        a -= lr * a.grad\n",
        "        b -= lr * b.grad\n",
        "    \n",
        "    # Обнуляем градиенты вручную\n",
        "    a.grad.zero_()\n",
        "    b.grad.zero_()\n",
        "    \n",
        "print(a, b)"
      ],
      "execution_count": 0,
      "outputs": [
        {
          "output_type": "stream",
          "text": [
            "tensor([1.0235], requires_grad=True) tensor([1.9690], requires_grad=True)\n"
          ],
          "name": "stdout"
        }
      ]
    },
    {
      "cell_type": "code",
      "metadata": {
        "id": "zm5TTEjemt7A",
        "colab_type": "code",
        "colab": {}
      },
      "source": [
        ""
      ],
      "execution_count": 0,
      "outputs": []
    },
    {
      "cell_type": "markdown",
      "metadata": {
        "id": "SRz0O8-bBuYs",
        "colab_type": "text"
      },
      "source": [
        "В первом случае мы не учли, что по умолчанию **все действия и операции над тензорами иммутабельны**. Мы формируем новые тензоры в процессе арифметических операций и при переназначении нашим параметрам их же обновлённых значений градиенты сбрасываются в начальное значение None, и возникает подобная ошибка.\n",
        "\n",
        "Нам надо выполнять обновления параметров непосредственно в них самих (**in place**) -- работать с ними как с мутабельными объектами, без создания промежуточных данных. Но и вторая попытка обновления с помощью стандартной питоновской in-place операции -= тоже выдаст ошибку.\n",
        "\n",
        "\n",
        "Дело в том, что PyTorch строит **динамический вычислительный граф** (см. далее) для каждой питоновской операции, которая прямо или косвенно связана с тензорами, для которых считаются градиенты. И чтобы временно отключить такой режим по умолчанию, надо воспользоваться методом **torch.no_grad()**, который позволяет выполнять операции над тензорами в отрыве от графа вычислений. Именно это мы и делаем в третьей попытке.\n",
        "\n",
        "\n",
        "И наконец, надо ещё учесть, что **градиенты автоматически не обнуляются, а накапливаются** -- в каждой эпохе их надо обнулять вручную. В PyTorch принято, что все методы по умолчанию иммутабельны (не воздействуют на своего родителя), а их мутабельные (in place) версии (полезные например, когда мы не хотим создавать промежуточные копии крупных объектов) отличаются символом подчёркивания в конце своего названия.\n",
        "Обнуление градиента \"на месте\" выполнит соответствующий метод **zero_()**.\n",
        "\n",
        "Итак, мы получаем итоговый результат, очень близкий к версии NumPy:\n",
        "tensor([1.0235], requires_grad=True) tensor([1.9690], requires_grad=True)\n",
        "\n",
        "\n",
        "---\n",
        "\n",
        "\n"
      ]
    },
    {
      "cell_type": "markdown",
      "metadata": {
        "id": "6Y67gyH5Du1A",
        "colab_type": "text"
      },
      "source": [
        "##**Динамический граф вычислений**\n",
        "\n",
        "**Вычислительный граф** -- это направленный граф, в узлах которого выполняются некоторые вычисления. \n",
        "\n",
        "Вычисления в узлах графа используют данные, которые были вычислены в \"предыдущих\" узлах.\n",
        "\n",
        "Каждый узел графа -- по сути чистая функция, получающая на вход данные от связанных с ним узлов; по этой причине исполнение вычислительного графа хорошо распараллеливается.\n",
        "\n",
        "По большому счёту, от фреймворков машинного обучения требуются три основные вещи: **формировать граф вычислений, дифференцировать его, и вычислять**.\n",
        "В PyTorch такой граф строится динамически при запуске кода, и по нему можно проходить как вперёд, от начала к концу, так и обратно, от конца в начало.\n",
        "\n",
        "Зачем же этот граф нужен, как он связан с нашим кодом, как это вообще работает?\n",
        "\n",
        "Пакет PyTorchViz содержит средства визуализации графов вычислений. Установите его:\n"
      ]
    },
    {
      "cell_type": "code",
      "metadata": {
        "id": "SAckCUd1j2j6",
        "colab_type": "code",
        "outputId": "7a2fabe6-c886-49e0-d07c-b0a9a02b5472",
        "colab": {
          "base_uri": "https://localhost:8080/",
          "height": 221
        }
      },
      "source": [
        "!pip install torchviz"
      ],
      "execution_count": 0,
      "outputs": [
        {
          "output_type": "stream",
          "text": [
            "Collecting torchviz\n",
            "\u001b[?25l  Downloading https://files.pythonhosted.org/packages/8f/8e/a9630c7786b846d08b47714dd363a051f5e37b4ea0e534460d8cdfc1644b/torchviz-0.0.1.tar.gz (41kB)\n",
            "\u001b[K     |████████████████████████████████| 51kB 2.0MB/s \n",
            "\u001b[?25hRequirement already satisfied: torch in /usr/local/lib/python3.6/dist-packages (from torchviz) (1.1.0)\n",
            "Requirement already satisfied: graphviz in /usr/local/lib/python3.6/dist-packages (from torchviz) (0.10.1)\n",
            "Requirement already satisfied: numpy in /usr/local/lib/python3.6/dist-packages (from torch->torchviz) (1.16.4)\n",
            "Building wheels for collected packages: torchviz\n",
            "  Building wheel for torchviz (setup.py) ... \u001b[?25l\u001b[?25hdone\n",
            "  Stored in directory: /root/.cache/pip/wheels/2a/c2/c5/b8b4d0f7992c735f6db5bfa3c5f354cf36502037ca2b585667\n",
            "Successfully built torchviz\n",
            "Installing collected packages: torchviz\n",
            "Successfully installed torchviz-0.0.1\n"
          ],
          "name": "stdout"
        }
      ]
    },
    {
      "cell_type": "markdown",
      "metadata": {
        "id": "P8t6nPBcEI4u",
        "colab_type": "text"
      },
      "source": [
        "Подготовим минималистичный код: два тензора с поддержкой градиентов, формулу прогнозирования, погрешость и лосс.\n",
        "\n",
        "Функция **make_dot(yhat)**, получающая на вход тензор, связанный с формулой прогнозирования, сформирует такое изображение графа:\n"
      ]
    },
    {
      "cell_type": "code",
      "metadata": {
        "id": "UXJlTuHZiewG",
        "colab_type": "code",
        "outputId": "584e9cd5-7098-42db-c36f-c3351817a183",
        "colab": {
          "base_uri": "https://localhost:8080/",
          "height": 477
        }
      },
      "source": [
        "import torchviz\n",
        "\n",
        "torch.manual_seed(42)\n",
        "a = torch.randn(1, requires_grad=True, dtype=torch.float, device=device)\n",
        "b = torch.randn(1, requires_grad=True, dtype=torch.float, device=device)\n",
        "\n",
        "yhat = a + b * x_train_tensor\n",
        "error = y_train_tensor - yhat\n",
        "loss = (error ** 2).mean()\n",
        "\n",
        "torchviz.make_dot(loss) # визуализируем граф вычислений"
      ],
      "execution_count": 0,
      "outputs": [
        {
          "output_type": "execute_result",
          "data": {
            "text/plain": [
              "<graphviz.dot.Digraph at 0x7f4963fc36a0>"
            ],
            "image/svg+xml": "<?xml version=\"1.0\" encoding=\"UTF-8\" standalone=\"no\"?>\n<!DOCTYPE svg PUBLIC \"-//W3C//DTD SVG 1.1//EN\"\n \"http://www.w3.org/Graphics/SVG/1.1/DTD/svg11.dtd\">\n<!-- Generated by graphviz version 2.40.1 (20161225.0304)\n -->\n<!-- Title: %3 Pages: 1 -->\n<svg width=\"172pt\" height=\"342pt\"\n viewBox=\"0.00 0.00 171.50 342.00\" xmlns=\"http://www.w3.org/2000/svg\" xmlns:xlink=\"http://www.w3.org/1999/xlink\">\n<g id=\"graph0\" class=\"graph\" transform=\"scale(1 1) rotate(0) translate(4 338)\">\n<title>%3</title>\n<polygon fill=\"#ffffff\" stroke=\"transparent\" points=\"-4,4 -4,-338 167.5,-338 167.5,4 -4,4\"/>\n<!-- 139953186509152 -->\n<g id=\"node1\" class=\"node\">\n<title>139953186509152</title>\n<polygon fill=\"#caff70\" stroke=\"#000000\" points=\"121,-21 23,-21 23,0 121,0 121,-21\"/>\n<text text-anchor=\"middle\" x=\"72\" y=\"-7.4\" font-family=\"Times,serif\" font-size=\"12.00\" fill=\"#000000\">MeanBackward0</text>\n</g>\n<!-- 139953186508928 -->\n<g id=\"node2\" class=\"node\">\n<title>139953186508928</title>\n<polygon fill=\"#d3d3d3\" stroke=\"#000000\" points=\"118.5,-78 25.5,-78 25.5,-57 118.5,-57 118.5,-78\"/>\n<text text-anchor=\"middle\" x=\"72\" y=\"-64.4\" font-family=\"Times,serif\" font-size=\"12.00\" fill=\"#000000\">PowBackward0</text>\n</g>\n<!-- 139953186508928&#45;&gt;139953186509152 -->\n<g id=\"edge1\" class=\"edge\">\n<title>139953186508928&#45;&gt;139953186509152</title>\n<path fill=\"none\" stroke=\"#000000\" d=\"M72,-56.7787C72,-49.6134 72,-39.9517 72,-31.3097\"/>\n<polygon fill=\"#000000\" stroke=\"#000000\" points=\"75.5001,-31.1732 72,-21.1732 68.5001,-31.1732 75.5001,-31.1732\"/>\n</g>\n<!-- 139953186436376 -->\n<g id=\"node3\" class=\"node\">\n<title>139953186436376</title>\n<polygon fill=\"#d3d3d3\" stroke=\"#000000\" points=\"117,-135 27,-135 27,-114 117,-114 117,-135\"/>\n<text text-anchor=\"middle\" x=\"72\" y=\"-121.4\" font-family=\"Times,serif\" font-size=\"12.00\" fill=\"#000000\">SubBackward0</text>\n</g>\n<!-- 139953186436376&#45;&gt;139953186508928 -->\n<g id=\"edge2\" class=\"edge\">\n<title>139953186436376&#45;&gt;139953186508928</title>\n<path fill=\"none\" stroke=\"#000000\" d=\"M72,-113.7787C72,-106.6134 72,-96.9517 72,-88.3097\"/>\n<polygon fill=\"#000000\" stroke=\"#000000\" points=\"75.5001,-88.1732 72,-78.1732 68.5001,-88.1732 75.5001,-88.1732\"/>\n</g>\n<!-- 139953792031936 -->\n<g id=\"node4\" class=\"node\">\n<title>139953792031936</title>\n<polygon fill=\"#d3d3d3\" stroke=\"#000000\" points=\"118,-192 26,-192 26,-171 118,-171 118,-192\"/>\n<text text-anchor=\"middle\" x=\"72\" y=\"-178.4\" font-family=\"Times,serif\" font-size=\"12.00\" fill=\"#000000\">AddBackward0</text>\n</g>\n<!-- 139953792031936&#45;&gt;139953186436376 -->\n<g id=\"edge3\" class=\"edge\">\n<title>139953792031936&#45;&gt;139953186436376</title>\n<path fill=\"none\" stroke=\"#000000\" d=\"M72,-170.7787C72,-163.6134 72,-153.9517 72,-145.3097\"/>\n<polygon fill=\"#000000\" stroke=\"#000000\" points=\"75.5001,-145.1732 72,-135.1732 68.5001,-145.1732 75.5001,-145.1732\"/>\n</g>\n<!-- 139951899956224 -->\n<g id=\"node5\" class=\"node\">\n<title>139951899956224</title>\n<polygon fill=\"#add8e6\" stroke=\"#000000\" points=\"54,-263 0,-263 0,-228 54,-228 54,-263\"/>\n<text text-anchor=\"middle\" x=\"27\" y=\"-235.4\" font-family=\"Times,serif\" font-size=\"12.00\" fill=\"#000000\"> (1)</text>\n</g>\n<!-- 139951899956224&#45;&gt;139953792031936 -->\n<g id=\"edge4\" class=\"edge\">\n<title>139951899956224&#45;&gt;139953792031936</title>\n<path fill=\"none\" stroke=\"#000000\" d=\"M39.535,-227.6724C45.4798,-219.2176 52.5878,-209.1085 58.6352,-200.5078\"/>\n<polygon fill=\"#000000\" stroke=\"#000000\" points=\"61.5714,-202.4169 64.4601,-192.2234 55.8452,-198.3906 61.5714,-202.4169\"/>\n</g>\n<!-- 139951899956840 -->\n<g id=\"node6\" class=\"node\">\n<title>139951899956840</title>\n<polygon fill=\"#d3d3d3\" stroke=\"#000000\" points=\"163.5,-256 72.5,-256 72.5,-235 163.5,-235 163.5,-256\"/>\n<text text-anchor=\"middle\" x=\"118\" y=\"-242.4\" font-family=\"Times,serif\" font-size=\"12.00\" fill=\"#000000\">MulBackward0</text>\n</g>\n<!-- 139951899956840&#45;&gt;139953792031936 -->\n<g id=\"edge5\" class=\"edge\">\n<title>139951899956840&#45;&gt;139953792031936</title>\n<path fill=\"none\" stroke=\"#000000\" d=\"M110.404,-234.9317C103.7191,-225.6309 93.821,-211.8597 85.7479,-200.6276\"/>\n<polygon fill=\"#000000\" stroke=\"#000000\" points=\"88.4395,-198.3753 79.761,-192.2979 82.7553,-202.4608 88.4395,-198.3753\"/>\n</g>\n<!-- 139951899957680 -->\n<g id=\"node7\" class=\"node\">\n<title>139951899957680</title>\n<polygon fill=\"#add8e6\" stroke=\"#000000\" points=\"145,-334 91,-334 91,-299 145,-299 145,-334\"/>\n<text text-anchor=\"middle\" x=\"118\" y=\"-306.4\" font-family=\"Times,serif\" font-size=\"12.00\" fill=\"#000000\"> (1)</text>\n</g>\n<!-- 139951899957680&#45;&gt;139951899956840 -->\n<g id=\"edge6\" class=\"edge\">\n<title>139951899957680&#45;&gt;139951899956840</title>\n<path fill=\"none\" stroke=\"#000000\" d=\"M118,-298.9494C118,-289.058 118,-276.6435 118,-266.2693\"/>\n<polygon fill=\"#000000\" stroke=\"#000000\" points=\"121.5001,-266.0288 118,-256.0288 114.5001,-266.0289 121.5001,-266.0288\"/>\n</g>\n</g>\n</svg>\n"
          },
          "metadata": {
            "tags": []
          },
          "execution_count": 8
        }
      ]
    },
    {
      "cell_type": "markdown",
      "metadata": {
        "id": "gzxnH0iEEUAM",
        "colab_type": "text"
      },
      "source": [
        "Синие квадратики -- это наши параметры, тензоры, для которых считаются градиенты. Серые квадратики -- это операции Python над этими тензорами или над зависимыми от них значениями.\n",
        "\n",
        "Зелёные квадратики -- то же, что и серые, только в них вычисляются градиенты.\n",
        "\n",
        "Кто знаком с абстрактным синтаксическим деревом, наверняка увидит тут определённое сходство.\n",
        "\n",
        "По названиям квадратов легко определить их смысл -- префиксы определяют вид арифметических операций. Сперва Mul (умножение) выполняет умножение одного параметра: b * x_train_tensor, затем результат складывается (Add) с вторым параметром a, далее из y_train_tensor вычитается (Sub) что получилось, затем возводится в степень (Pow), и наконец вычисление среднего Mean -- это заключительная точка, в которой будут рассчитываться градиенты.\n",
        "\n",
        "\n",
        "---\n",
        "\n",
        "\n",
        " \n",
        "**Вычисление градиентов в графе происходит снизу вверх!** Зелёный квадрат -- это стартовая точка такого процесса. Не вдаваясь в детали, отметим, что это так называемое **обратное автоматическое дифференцирование** -- мы начинаем с операции, где было получено результирующее значение, и движемся от неё обратно по графу, вычисляя таким образом производные.\n",
        "\n",
        "\n",
        "---\n",
        "\n",
        "\n"
      ]
    },
    {
      "cell_type": "markdown",
      "metadata": {
        "id": "FU8kqbrEE0ek",
        "colab_type": "text"
      },
      "source": [
        "Почему в одних случаях в квадраты входят две стрелки (как и должно быть с точки зрения двух параметров арифметических операций), а в других всего одна? Какой там второй параметр арифметической операции?\n",
        "\n",
        "Дело в том, что в графе не требуются отдельные квадраты для, например, x или y, потому что мы не считаем градиенты для них. Независимо от количества задействованных тензоров в выражении **в графе учитываются только те параметры, для которых вычисляются градиенты**.\n",
        "\n",
        "Например, попробуйте изменить в команде создания параметра \"a\" его настройку requires_grad на False:\n",
        "\n",
        "`a = torch.randn(1, requires_grad=False, dtype=torch.float, device=device)`\n",
        "\n",
        "Получится граф из шести квадратиков, которые будут линейно связаны друг с другом одиночными стрелками.\n"
      ]
    },
    {
      "cell_type": "markdown",
      "metadata": {
        "id": "EcUP191pFnNO",
        "colab_type": "text"
      },
      "source": [
        "##**Задание 1**\n",
        "\n",
        "Выведите графы для error и yhat -- почему получились такие отличия?\n",
        "\n",
        "\n",
        "---\n",
        "\n",
        "\n"
      ]
    },
    {
      "cell_type": "markdown",
      "metadata": {
        "id": "U4o_iqiMF7NY",
        "colab_type": "text"
      },
      "source": [
        "##**Дифференцирование условных конструкций**\n",
        "\n",
        "Самая крутая особенность динамического вычислительного графа в PyTorch в том, что он понимает фактически любые управляющие конструкции Python, код любой сложности. Это по сути означает, что их тоже можно дифференцировать!\n",
        "\n",
        "Следующий код, дополненный условием (оно само по себе не имеет никакого смысла), выведет интересный граф:\n"
      ]
    },
    {
      "cell_type": "code",
      "metadata": {
        "id": "d8Ne289G42UQ",
        "colab_type": "code",
        "outputId": "d6cacae6-5a22-475b-f52a-9effff92cbe3",
        "colab": {
          "base_uri": "https://localhost:8080/",
          "height": 553
        }
      },
      "source": [
        "import torchviz\n",
        "\n",
        "torch.manual_seed(42)\n",
        "a = torch.randn(1, requires_grad=True, dtype=torch.float, device=device)\n",
        "b = torch.randn(1, requires_grad=True, dtype=torch.float, device=device)\n",
        "\n",
        "yhat = a + b * x_train_tensor\n",
        "error = y_train_tensor - yhat\n",
        "loss = (error ** 2).mean()\n",
        "\n",
        "# это полная чушь! этот код только для демонстрации разветвления в графе!\n",
        "if loss > 0:\n",
        "  yhat2 = b * x_train_tensor\n",
        "  error2 = y_train_tensor - yhat2\n",
        "  \n",
        "loss += error2.mean()  \n",
        "\n",
        "torchviz.make_dot(loss) # визуализируем граф вычислений"
      ],
      "execution_count": 0,
      "outputs": [
        {
          "output_type": "execute_result",
          "data": {
            "text/plain": [
              "<graphviz.dot.Digraph at 0x7f4916ff6a20>"
            ],
            "image/svg+xml": "<?xml version=\"1.0\" encoding=\"UTF-8\" standalone=\"no\"?>\n<!DOCTYPE svg PUBLIC \"-//W3C//DTD SVG 1.1//EN\"\n \"http://www.w3.org/Graphics/SVG/1.1/DTD/svg11.dtd\">\n<!-- Generated by graphviz version 2.40.1 (20161225.0304)\n -->\n<!-- Title: %3 Pages: 1 -->\n<svg width=\"284pt\" height=\"399pt\"\n viewBox=\"0.00 0.00 284.00 399.00\" xmlns=\"http://www.w3.org/2000/svg\" xmlns:xlink=\"http://www.w3.org/1999/xlink\">\n<g id=\"graph0\" class=\"graph\" transform=\"scale(1 1) rotate(0) translate(4 395)\">\n<title>%3</title>\n<polygon fill=\"#ffffff\" stroke=\"transparent\" points=\"-4,4 -4,-395 280,-395 280,4 -4,4\"/>\n<!-- 139951895177648 -->\n<g id=\"node1\" class=\"node\">\n<title>139951895177648</title>\n<polygon fill=\"#caff70\" stroke=\"#000000\" points=\"215,-21 123,-21 123,0 215,0 215,-21\"/>\n<text text-anchor=\"middle\" x=\"169\" y=\"-7.4\" font-family=\"Times,serif\" font-size=\"12.00\" fill=\"#000000\">AddBackward0</text>\n</g>\n<!-- 139951895177816 -->\n<g id=\"node2\" class=\"node\">\n<title>139951895177816</title>\n<polygon fill=\"#d3d3d3\" stroke=\"#000000\" points=\"180,-78 82,-78 82,-57 180,-57 180,-78\"/>\n<text text-anchor=\"middle\" x=\"131\" y=\"-64.4\" font-family=\"Times,serif\" font-size=\"12.00\" fill=\"#000000\">MeanBackward0</text>\n</g>\n<!-- 139951895177816&#45;&gt;139951895177648 -->\n<g id=\"edge1\" class=\"edge\">\n<title>139951895177816&#45;&gt;139951895177648</title>\n<path fill=\"none\" stroke=\"#000000\" d=\"M138.1475,-56.7787C143.2429,-49.1357 150.2317,-38.6524 156.2694,-29.596\"/>\n<polygon fill=\"#000000\" stroke=\"#000000\" points=\"159.2497,-31.4352 161.8845,-21.1732 153.4253,-27.5522 159.2497,-31.4352\"/>\n</g>\n<!-- 139951895177984 -->\n<g id=\"node3\" class=\"node\">\n<title>139951895177984</title>\n<polygon fill=\"#d3d3d3\" stroke=\"#000000\" points=\"159.5,-135 66.5,-135 66.5,-114 159.5,-114 159.5,-135\"/>\n<text text-anchor=\"middle\" x=\"113\" y=\"-121.4\" font-family=\"Times,serif\" font-size=\"12.00\" fill=\"#000000\">PowBackward0</text>\n</g>\n<!-- 139951895177984&#45;&gt;139951895177816 -->\n<g id=\"edge2\" class=\"edge\">\n<title>139951895177984&#45;&gt;139951895177816</title>\n<path fill=\"none\" stroke=\"#000000\" d=\"M116.3857,-113.7787C118.6987,-106.4542 121.8354,-96.5211 124.61,-87.7352\"/>\n<polygon fill=\"#000000\" stroke=\"#000000\" points=\"127.9557,-88.763 127.6295,-78.1732 121.2806,-86.655 127.9557,-88.763\"/>\n</g>\n<!-- 139951895178096 -->\n<g id=\"node4\" class=\"node\">\n<title>139951895178096</title>\n<polygon fill=\"#d3d3d3\" stroke=\"#000000\" points=\"158,-192 68,-192 68,-171 158,-171 158,-192\"/>\n<text text-anchor=\"middle\" x=\"113\" y=\"-178.4\" font-family=\"Times,serif\" font-size=\"12.00\" fill=\"#000000\">SubBackward0</text>\n</g>\n<!-- 139951895178096&#45;&gt;139951895177984 -->\n<g id=\"edge3\" class=\"edge\">\n<title>139951895178096&#45;&gt;139951895177984</title>\n<path fill=\"none\" stroke=\"#000000\" d=\"M113,-170.7787C113,-163.6134 113,-153.9517 113,-145.3097\"/>\n<polygon fill=\"#000000\" stroke=\"#000000\" points=\"116.5001,-145.1732 113,-135.1732 109.5001,-145.1732 116.5001,-145.1732\"/>\n</g>\n<!-- 139951895178208 -->\n<g id=\"node5\" class=\"node\">\n<title>139951895178208</title>\n<polygon fill=\"#d3d3d3\" stroke=\"#000000\" points=\"159,-249 67,-249 67,-228 159,-228 159,-249\"/>\n<text text-anchor=\"middle\" x=\"113\" y=\"-235.4\" font-family=\"Times,serif\" font-size=\"12.00\" fill=\"#000000\">AddBackward0</text>\n</g>\n<!-- 139951895178208&#45;&gt;139951895178096 -->\n<g id=\"edge4\" class=\"edge\">\n<title>139951895178208&#45;&gt;139951895178096</title>\n<path fill=\"none\" stroke=\"#000000\" d=\"M113,-227.7787C113,-220.6134 113,-210.9517 113,-202.3097\"/>\n<polygon fill=\"#000000\" stroke=\"#000000\" points=\"116.5001,-202.1732 113,-192.1732 109.5001,-202.1732 116.5001,-202.1732\"/>\n</g>\n<!-- 139951895178320 -->\n<g id=\"node6\" class=\"node\">\n<title>139951895178320</title>\n<polygon fill=\"#add8e6\" stroke=\"#000000\" points=\"54,-320 0,-320 0,-285 54,-285 54,-320\"/>\n<text text-anchor=\"middle\" x=\"27\" y=\"-292.4\" font-family=\"Times,serif\" font-size=\"12.00\" fill=\"#000000\"> (1)</text>\n</g>\n<!-- 139951895178320&#45;&gt;139951895178208 -->\n<g id=\"edge5\" class=\"edge\">\n<title>139951895178320&#45;&gt;139951895178208</title>\n<path fill=\"none\" stroke=\"#000000\" d=\"M50.9558,-284.6724C63.3538,-275.446 78.3987,-264.2498 90.5683,-255.1934\"/>\n<polygon fill=\"#000000\" stroke=\"#000000\" points=\"92.9097,-257.8138 98.8425,-249.0358 88.7306,-252.1981 92.9097,-257.8138\"/>\n</g>\n<!-- 139951895178376 -->\n<g id=\"node7\" class=\"node\">\n<title>139951895178376</title>\n<polygon fill=\"#d3d3d3\" stroke=\"#000000\" points=\"163.5,-313 72.5,-313 72.5,-292 163.5,-292 163.5,-313\"/>\n<text text-anchor=\"middle\" x=\"118\" y=\"-299.4\" font-family=\"Times,serif\" font-size=\"12.00\" fill=\"#000000\">MulBackward0</text>\n</g>\n<!-- 139951895178376&#45;&gt;139951895178208 -->\n<g id=\"edge6\" class=\"edge\">\n<title>139951895178376&#45;&gt;139951895178208</title>\n<path fill=\"none\" stroke=\"#000000\" d=\"M117.1744,-291.9317C116.4837,-283.0913 115.4775,-270.2122 114.6261,-259.3135\"/>\n<polygon fill=\"#000000\" stroke=\"#000000\" points=\"118.1119,-258.9949 113.8436,-249.2979 111.1332,-259.5402 118.1119,-258.9949\"/>\n</g>\n<!-- 139951895178544 -->\n<g id=\"node8\" class=\"node\">\n<title>139951895178544</title>\n<polygon fill=\"#add8e6\" stroke=\"#000000\" points=\"199,-391 145,-391 145,-356 199,-356 199,-391\"/>\n<text text-anchor=\"middle\" x=\"172\" y=\"-363.4\" font-family=\"Times,serif\" font-size=\"12.00\" fill=\"#000000\"> (1)</text>\n</g>\n<!-- 139951895178544&#45;&gt;139951895178376 -->\n<g id=\"edge7\" class=\"edge\">\n<title>139951895178544&#45;&gt;139951895178376</title>\n<path fill=\"none\" stroke=\"#000000\" d=\"M158.6517,-355.9494C150.6484,-345.4266 140.4734,-332.0484 132.3053,-321.3089\"/>\n<polygon fill=\"#000000\" stroke=\"#000000\" points=\"134.8474,-318.8695 126.0078,-313.0288 129.2757,-323.1071 134.8474,-318.8695\"/>\n</g>\n<!-- 139951895178264 -->\n<g id=\"node11\" class=\"node\">\n<title>139951895178264</title>\n<polygon fill=\"#d3d3d3\" stroke=\"#000000\" points=\"272.5,-313 181.5,-313 181.5,-292 272.5,-292 272.5,-313\"/>\n<text text-anchor=\"middle\" x=\"227\" y=\"-299.4\" font-family=\"Times,serif\" font-size=\"12.00\" fill=\"#000000\">MulBackward0</text>\n</g>\n<!-- 139951895178544&#45;&gt;139951895178264 -->\n<g id=\"edge11\" class=\"edge\">\n<title>139951895178544&#45;&gt;139951895178264</title>\n<path fill=\"none\" stroke=\"#000000\" d=\"M185.5955,-355.9494C193.8285,-345.3214 204.3179,-331.7806 212.6787,-320.9875\"/>\n<polygon fill=\"#000000\" stroke=\"#000000\" points=\"215.4868,-323.0778 218.8439,-313.0288 209.9529,-318.7909 215.4868,-323.0778\"/>\n</g>\n<!-- 139951895177872 -->\n<g id=\"node9\" class=\"node\">\n<title>139951895177872</title>\n<polygon fill=\"#d3d3d3\" stroke=\"#000000\" points=\"276,-135 178,-135 178,-114 276,-114 276,-135\"/>\n<text text-anchor=\"middle\" x=\"227\" y=\"-121.4\" font-family=\"Times,serif\" font-size=\"12.00\" fill=\"#000000\">MeanBackward0</text>\n</g>\n<!-- 139951895177872&#45;&gt;139951895177648 -->\n<g id=\"edge8\" class=\"edge\">\n<title>139951895177872&#45;&gt;139951895177648</title>\n<path fill=\"none\" stroke=\"#000000\" d=\"M221.6475,-113.9795C211.9855,-94.9888 191.4875,-54.6995 179.1119,-30.3751\"/>\n<polygon fill=\"#000000\" stroke=\"#000000\" points=\"182.1629,-28.6533 174.5088,-21.3276 175.9239,-31.8275 182.1629,-28.6533\"/>\n</g>\n<!-- 139951895178040 -->\n<g id=\"node10\" class=\"node\">\n<title>139951895178040</title>\n<polygon fill=\"#d3d3d3\" stroke=\"#000000\" points=\"272,-249 182,-249 182,-228 272,-228 272,-249\"/>\n<text text-anchor=\"middle\" x=\"227\" y=\"-235.4\" font-family=\"Times,serif\" font-size=\"12.00\" fill=\"#000000\">SubBackward0</text>\n</g>\n<!-- 139951895178040&#45;&gt;139951895177872 -->\n<g id=\"edge9\" class=\"edge\">\n<title>139951895178040&#45;&gt;139951895177872</title>\n<path fill=\"none\" stroke=\"#000000\" d=\"M227,-227.9795C227,-209.242 227,-169.7701 227,-145.3565\"/>\n<polygon fill=\"#000000\" stroke=\"#000000\" points=\"230.5001,-145.3276 227,-135.3276 223.5001,-145.3277 230.5001,-145.3276\"/>\n</g>\n<!-- 139951895178264&#45;&gt;139951895178040 -->\n<g id=\"edge10\" class=\"edge\">\n<title>139951895178264&#45;&gt;139951895178040</title>\n<path fill=\"none\" stroke=\"#000000\" d=\"M227,-291.9317C227,-283.0913 227,-270.2122 227,-259.3135\"/>\n<polygon fill=\"#000000\" stroke=\"#000000\" points=\"230.5001,-259.2979 227,-249.2979 223.5001,-259.2979 230.5001,-259.2979\"/>\n</g>\n</g>\n</svg>\n"
          },
          "metadata": {
            "tags": []
          },
          "execution_count": 9
        }
      ]
    },
    {
      "cell_type": "markdown",
      "metadata": {
        "id": "SV4DeKF9GB3A",
        "colab_type": "text"
      },
      "source": [
        "**Важно**. В графе формируется не линейная последовательность действий, как в коде. \n",
        "\n",
        "**Граф -- это не блок-схема!** В случае блок-схемы алгоритма требовалось бы делать разветвление после первого расчёта loss, а в данном случае видны два независимых вычислительных блока, которые разветвляются не по условию if loss > 0 , а по вхождению параметров (в данном случае параметра b) в различные цепочки вычислений. Эти блоки/цепочки в процессе вычисления градиентов комбинируются автоматически.\n",
        "\n",
        "\n",
        "---\n",
        "\n"
      ]
    },
    {
      "cell_type": "markdown",
      "metadata": {
        "id": "9fR3Zp9aHz5m",
        "colab_type": "text"
      },
      "source": [
        "##**Оптимизатор**\n",
        "\n",
        "Несмотря на автоматическое вычисление градиентов, сейчас мы, как и в случае с NumPy, параметры обновляем вручную, явными командами в коде. Сейчас их всего два, но что если их будут сотни или тысячи, как в крупных и сложных моделях? На помощь приходят оптимизаторы. **Пакет torch.optim -- это второй из трёх ключевых пакетов PyTorch**.\n",
        "\n",
        "\n",
        "\n",
        "Оптимизатор получает на вход список параметров, скорость обучения и возможно ещё ряд других настроечных коэффициентов, и выполняет их автоматическое обновление с помощью метода **step().** Не требуется в таком случае и ручного обнуления градиентов -- для этого есть метод **zero_grad()**.\n",
        "\n",
        "\n",
        "Различные алгоритмы оптимизации и реализованы в данном пакете torch.optim.  Один из популярных алгоритмов -- это **стохастический градиентный спуск** (Stochastic Gradient Descent, SGD). Как он работает внутри, на данном шаге неважно, достаточно знать, что он умеет реализовывать пакетный спуск -- используя в обновлении сразу всю обучающую выборку.\n",
        "\n",
        "https://pytorch.org/docs/stable/optim.html?source=post_page---------------------------#torch.optim.SGD\n",
        "\n",
        "Всё, что потребуется изменить в исходном коде -- это создать сам оптимизатор, связав его с параметрами, и соответственно, сменить ручное обновление параметров a и b и обнуление их градиентов на вызов методов оптимизатора step() и zero_grad().\n"
      ]
    },
    {
      "cell_type": "code",
      "metadata": {
        "id": "mohMh0ECmw1K",
        "colab_type": "code",
        "outputId": "12af900c-7b9c-48f6-fac4-62c9bdea98d1",
        "colab": {
          "base_uri": "https://localhost:8080/",
          "height": 51
        }
      },
      "source": [
        "from torch import optim\n",
        "\n",
        "torch.manual_seed(42)\n",
        "a = torch.randn(1, requires_grad=True, dtype=torch.float, device=device)\n",
        "b = torch.randn(1, requires_grad=True, dtype=torch.float, device=device)\n",
        "print(a, b)\n",
        "\n",
        "# скорость обучения\n",
        "lr = 0.1\n",
        "\n",
        "# количество эпох\n",
        "n_epochs = 1000 \n",
        "\n",
        "# создаём SGD оптимизатор для автоматического обновления параметров \n",
        "optimizer = optim.SGD([a, b], lr=lr)\n",
        "\n",
        "for epoch in range(n_epochs):\n",
        "    yhat = a + b * x_train_tensor\n",
        "    error = y_train_tensor - yhat\n",
        "    loss = (error ** 2).mean()\n",
        "    loss.backward()\n",
        "    \n",
        "    # with torch.no_grad():\n",
        "    #    a -= lr * a.grad\n",
        "    #    b -= lr * b.grad\n",
        "    optimizer.step()  \n",
        "    \n",
        "    # a.grad.zero_()\n",
        "    # b.grad.zero_()\n",
        "    optimizer.zero_grad()\n",
        "    \n",
        "print(a, b)"
      ],
      "execution_count": 0,
      "outputs": [
        {
          "output_type": "stream",
          "text": [
            "tensor([0.3367], requires_grad=True) tensor([0.1288], requires_grad=True)\n",
            "tensor([1.0235], requires_grad=True) tensor([1.9690], requires_grad=True)\n"
          ],
          "name": "stdout"
        }
      ]
    },
    {
      "cell_type": "markdown",
      "metadata": {
        "id": "X7RIFwl0ISpm",
        "colab_type": "text"
      },
      "source": [
        "Параметры в начале и после обучения:\n",
        "\n",
        "\n",
        "tensor([0.3367], requires_grad=True) tensor([0.1288], requires_grad=True)\n",
        "\n",
        "\n",
        "tensor([1.0235], requires_grad=True) tensor([1.9690], requires_grad=True)\n",
        "\n",
        "По сути, мы таким образом оптимизировали процесс оптимизации!\n",
        "\n",
        "\n",
        "---\n",
        "\n"
      ]
    },
    {
      "cell_type": "markdown",
      "metadata": {
        "id": "PhSl1VXCIiQc",
        "colab_type": "text"
      },
      "source": [
        "##**Лосс**\n",
        "\n",
        "Сейчас и лосс мы пока считаем вручную, явно записывая формулу расчёта \n",
        "loss = (error ** 2).mean(). На помощь приходит **третий (из трёх) ключевой пакет PyTorch -- torch.nn**, добавляющий уровень абстракции для довольно низкоуровневых возможностей autograd.\n",
        "\n",
        "https://pytorch.org/docs/stable/nn.html?highlight=nn#module-torch.nn\n",
        "\n",
        "В нём, в частности, содержится набор стандартных функций для расчёта всевозможных видов ошибок/погрешностей.\n",
        "\n",
        "В нашем случае, функция расчёта среднеквадратичной ошибки называется **MSELoss**. Сама по себе это не функция, которая вызывается напрямую, а скорее \"фабрика\" функций, которая создаёт нужную нам функцию, причём можно этой фабрике задавать параметры желаемой функций, методы агрегации данных (например, reduction=\"mean\" означает вычисление среднего, reduction=\"sum\" означает вычисление суммы). На вход подобным функциям подаётся обучающая выборка и тензор с параметрами, для которых рассчитываются градиенты.\n"
      ]
    },
    {
      "cell_type": "code",
      "metadata": {
        "id": "93krP0x3uCY8",
        "colab_type": "code",
        "outputId": "6701f74a-30f2-415a-f838-b94496ed43d9",
        "colab": {
          "base_uri": "https://localhost:8080/",
          "height": 51
        }
      },
      "source": [
        "from torch import optim, nn\n",
        "\n",
        "torch.manual_seed(42)\n",
        "a = torch.randn(1, requires_grad=True, dtype=torch.float, device=device)\n",
        "b = torch.randn(1, requires_grad=True, dtype=torch.float, device=device)\n",
        "print(a, b)\n",
        "\n",
        "# скорость обучения\n",
        "lr = 0.1\n",
        "\n",
        "# количество эпох\n",
        "n_epochs = 1000 \n",
        "\n",
        "# функция расчёта лосса\n",
        "loss_fn = nn.MSELoss(reduction='mean')\n",
        "\n",
        "# создаём SGD оптимизатор для автоматического обновления параметров \n",
        "optimizer = optim.SGD([a, b], lr=lr)\n",
        "\n",
        "for epoch in range(n_epochs):\n",
        "    yhat = a + b * x_train_tensor\n",
        "    \n",
        "    # error = y_train_tensor - yhat\n",
        "    # loss = (error ** 2).mean()\n",
        "    loss = loss_fn(yhat, y_train_tensor)\n",
        "    \n",
        "    loss.backward()\n",
        "    \n",
        "    optimizer.step()  \n",
        "    optimizer.zero_grad()\n",
        "    \n",
        "print(a, b)"
      ],
      "execution_count": 0,
      "outputs": [
        {
          "output_type": "stream",
          "text": [
            "tensor([0.3367], requires_grad=True) tensor([0.1288], requires_grad=True)\n",
            "tensor([1.0235], requires_grad=True) tensor([1.9690], requires_grad=True)\n"
          ],
          "name": "stdout"
        }
      ]
    },
    {
      "cell_type": "markdown",
      "metadata": {
        "id": "fT1znvwTI7lw",
        "colab_type": "text"
      },
      "source": [
        "Обратите внимание, что мы уже избавились фактически от всего ручного кодирования, связанного с градиентами и другими оптимизационными расчётами!\n",
        "\n",
        "**Получился по сути шаблон, в котором осталась только явно одна задаваемая вручную строка, где вычисляется yhat -- она определяет нашу формулу прогноза, и её можно менять на любые другие нужные нам для анализа зависимости.**\n",
        "\n",
        "Соответственно, напрашивается вопрос, а можно ли как-то абстрагировать и этот момент, чтобы не искать в оптимизационном коде нужную строчку, да и в целом перейти на более удобный формат представления изучаемых зависимостей? Такая форма абстракции в PyTorch -- это модель.\n",
        "\n",
        "Созданию моделей PyTorch посвящено следующее занятие."
      ]
    },
    {
      "cell_type": "markdown",
      "metadata": {
        "id": "4W1syOJ0Oo9a",
        "colab_type": "text"
      },
      "source": [
        "##**Задание 2**\n",
        "\n",
        "Измените в данном шаблоне прогноз на основе линейной регрессии на более сложную зависимость. С функциями прогноза какой сложности сможет уверенно справиться наш простой базовый шаблон PyTorch?"
      ]
    },
    {
      "cell_type": "markdown",
      "metadata": {
        "id": "0d3WkxEVV1F-",
        "colab_type": "text"
      },
      "source": [
        "\n",
        "\n",
        "---\n",
        "\n",
        "\n",
        "https://vk.com/lambda_brain"
      ]
    }
  ]
}