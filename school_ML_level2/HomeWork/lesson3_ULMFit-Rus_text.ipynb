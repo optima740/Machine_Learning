{
  "nbformat": 4,
  "nbformat_minor": 0,
  "metadata": {
    "kernelspec": {
      "name": "python3",
      "display_name": "Python 3"
    },
    "colab": {
      "name": "lesson3-imdb.ipynb",
      "provenance": [],
      "collapsed_sections": []
    },
    "accelerator": "GPU"
  },
  "cells": [
    {
      "cell_type": "markdown",
      "metadata": {
        "id": "Y2OTKeMkt0g1",
        "colab_type": "text"
      },
      "source": [
        "# 5. Анализируем обзоры фильмов на IMDB\n",
        "\n",
        "---\n",
        "\n",
        "По материалам курсов https://course.fast.ai/\n",
        "\n",
        "*переведено, дополнено, адаптировано, расширено https://vk.com/lambda_brain*\n",
        "*февраль 2020*\n",
        "\n",
        "---"
      ]
    },
    {
      "cell_type": "code",
      "metadata": {
        "id": "uxRgzlcBt0g3",
        "colab_type": "code",
        "colab": {}
      },
      "source": [
        "%reload_ext autoreload\n",
        "%autoreload 2\n",
        "%matplotlib inline"
      ],
      "execution_count": 0,
      "outputs": []
    },
    {
      "cell_type": "code",
      "metadata": {
        "id": "djwV1FRMt0g7",
        "colab_type": "code",
        "colab": {}
      },
      "source": [
        "from fastai.text import *"
      ],
      "execution_count": 0,
      "outputs": []
    },
    {
      "cell_type": "markdown",
      "metadata": {
        "id": "Z9a4BPC7t0g_",
        "colab_type": "text"
      },
      "source": [
        "## Готовим исходные данные"
      ]
    },
    {
      "cell_type": "markdown",
      "metadata": {
        "id": "07-HduIFt0hA",
        "colab_type": "text"
      },
      "source": [
        "Оригинальный [датасет](http://ai.stanford.edu/~amaas/data/sentiment/) создан Andrew Maas и содержит 100,000 обзоров на IMDB. 25,000 из них -- обучающая выборка, каждый обзор размечен как позитивный или негативный. Другие 25,000 -- тестовая выборка (надо отметить, что позитивные и негативные отзывы достаточно чётко различаются). Оставшиеся 50,000 никак не размечены, и мы можем использовать их произвольно.\n",
        "\n",
        "*Работа с данным крупным датасетом потребует ощутимого времени -- десятков минут или единичных часов.*\n"
      ]
    },
    {
      "cell_type": "markdown",
      "metadata": {
        "id": "kOG4nbgTWiCt",
        "colab_type": "text"
      },
      "source": [
        "Общая схема такая, что\n",
        "\n",
        "сперва мы обрабатываем исходные сырые данные минимумом кода,\n",
        "\n",
        "затем создаём так называемую **языковую модель**\n",
        "https://habr.com/ru/company/wunderfund/blog/318454/\n",
        "которая задаёт некоторое распределение вероятностей на множестве предложений (вероятность следующего слова на основе предыдущих) -- она уже была обучена, и остаётся выполнить fine-tuning её коэффициентов,   \n",
        "\n",
        "и наконец на основе **кодировщика** этой модели (см. далее) создаём итоговый классификатор.\n",
        "\n"
      ]
    },
    {
      "cell_type": "code",
      "metadata": {
        "id": "4_gZau5ht0hB",
        "colab_type": "code",
        "outputId": "5330a5e7-8b10-4220-892a-3ab7ec00b1f7",
        "colab": {
          "base_uri": "https://localhost:8080/",
          "height": 51
        }
      },
      "source": [
        "# fast.ai поддерживает датасет IMDB как стандартный\n",
        "path = untar_data(URLs.IMDB_SAMPLE) # сначала загрузим ограниченную версию IMDB на 1000 отзывов \n",
        "path.ls()"
      ],
      "execution_count": 0,
      "outputs": [
        {
          "output_type": "stream",
          "text": [
            "Downloading http://files.fast.ai/data/examples/imdb_sample\n"
          ],
          "name": "stdout"
        },
        {
          "output_type": "display_data",
          "data": {
            "text/html": [
              ""
            ],
            "text/plain": [
              "<IPython.core.display.HTML object>"
            ]
          },
          "metadata": {
            "tags": []
          }
        },
        {
          "output_type": "execute_result",
          "data": {
            "text/plain": [
              "[PosixPath('/root/.fastai/data/imdb_sample/texts.csv')]"
            ]
          },
          "metadata": {
            "tags": []
          },
          "execution_count": 3
        }
      ]
    },
    {
      "cell_type": "markdown",
      "metadata": {
        "id": "aEv1fwb_t0hE",
        "colab_type": "text"
      },
      "source": [
        "IMDB_SAMPLE -- это только один текстовый csv-файл. Посмотрим, что у него внутри."
      ]
    },
    {
      "cell_type": "code",
      "metadata": {
        "id": "A01dW2RDt0hF",
        "colab_type": "code",
        "outputId": "3c659944-d7d5-453e-bc1f-a408cf2b966c",
        "colab": {
          "base_uri": "https://localhost:8080/",
          "height": 204
        }
      },
      "source": [
        "df = pd.read_csv(path/'texts.csv')\n",
        "df.head()"
      ],
      "execution_count": 0,
      "outputs": [
        {
          "output_type": "execute_result",
          "data": {
            "text/html": [
              "<div>\n",
              "<style scoped>\n",
              "    .dataframe tbody tr th:only-of-type {\n",
              "        vertical-align: middle;\n",
              "    }\n",
              "\n",
              "    .dataframe tbody tr th {\n",
              "        vertical-align: top;\n",
              "    }\n",
              "\n",
              "    .dataframe thead th {\n",
              "        text-align: right;\n",
              "    }\n",
              "</style>\n",
              "<table border=\"1\" class=\"dataframe\">\n",
              "  <thead>\n",
              "    <tr style=\"text-align: right;\">\n",
              "      <th></th>\n",
              "      <th>label</th>\n",
              "      <th>text</th>\n",
              "      <th>is_valid</th>\n",
              "    </tr>\n",
              "  </thead>\n",
              "  <tbody>\n",
              "    <tr>\n",
              "      <th>0</th>\n",
              "      <td>negative</td>\n",
              "      <td>Un-bleeping-believable! Meg Ryan doesn't even ...</td>\n",
              "      <td>False</td>\n",
              "    </tr>\n",
              "    <tr>\n",
              "      <th>1</th>\n",
              "      <td>positive</td>\n",
              "      <td>This is a extremely well-made film. The acting...</td>\n",
              "      <td>False</td>\n",
              "    </tr>\n",
              "    <tr>\n",
              "      <th>2</th>\n",
              "      <td>negative</td>\n",
              "      <td>Every once in a long while a movie will come a...</td>\n",
              "      <td>False</td>\n",
              "    </tr>\n",
              "    <tr>\n",
              "      <th>3</th>\n",
              "      <td>positive</td>\n",
              "      <td>Name just says it all. I watched this movie wi...</td>\n",
              "      <td>False</td>\n",
              "    </tr>\n",
              "    <tr>\n",
              "      <th>4</th>\n",
              "      <td>negative</td>\n",
              "      <td>This movie succeeds at being one of the most u...</td>\n",
              "      <td>False</td>\n",
              "    </tr>\n",
              "  </tbody>\n",
              "</table>\n",
              "</div>"
            ],
            "text/plain": [
              "      label                                               text  is_valid\n",
              "0  negative  Un-bleeping-believable! Meg Ryan doesn't even ...     False\n",
              "1  positive  This is a extremely well-made film. The acting...     False\n",
              "2  negative  Every once in a long while a movie will come a...     False\n",
              "3  positive  Name just says it all. I watched this movie wi...     False\n",
              "4  negative  This movie succeeds at being one of the most u...     False"
            ]
          },
          "metadata": {
            "tags": []
          },
          "execution_count": 5
        }
      ]
    },
    {
      "cell_type": "markdown",
      "metadata": {
        "id": "3JwvIDguw2gd",
        "colab_type": "text"
      },
      "source": [
        "Всё удобно организовано -- есть метка позитивный/негативный, есть сам отзыв, и есть признак, относится ли отзыв к обучающей или тестовой выборкам."
      ]
    },
    {
      "cell_type": "code",
      "metadata": {
        "id": "x3VSU_HBt0hI",
        "colab_type": "code",
        "outputId": "849a1407-be9c-4653-fe67-612996c3bd78",
        "colab": {
          "base_uri": "https://localhost:8080/",
          "height": 54
        }
      },
      "source": [
        "df['text'][1] # пример позитивного отзыва"
      ],
      "execution_count": 0,
      "outputs": [
        {
          "output_type": "execute_result",
          "data": {
            "text/plain": [
              "'This is a extremely well-made film. The acting, script and camera-work are all first-rate. The music is good, too, though it is mostly early in the film, when things are still relatively cheery. There are no really superstars in the cast, though several faces will be familiar. The entire cast does an excellent job with the script.<br /><br />But it is hard to watch, because there is no good end to a situation like the one presented. It is now fashionable to blame the British for setting Hindus and Muslims against each other, and then cruelly separating them into two countries. There is some merit in this view, but it\\'s also true that no one forced Hindus and Muslims in the region to mistreat each other as they did around the time of partition. It seems more likely that the British simply saw the tensions between the religions and were clever enough to exploit them to their own ends.<br /><br />The result is that there is much cruelty and inhumanity in the situation and this is very unpleasant to remember and to see on the screen. But it is never painted as a black-and-white case. There is baseness and nobility on both sides, and also the hope for change in the younger generation.<br /><br />There is redemption of a sort, in the end, when Puro has to make a hard choice between a man who has ruined her life, but also truly loved her, and her family which has disowned her, then later come looking for her. But by that point, she has no option that is without great pain for her.<br /><br />This film carries the message that both Muslims and Hindus have their grave faults, and also that both can be dignified and caring people. The reality of partition makes that realisation all the more wrenching, since there can never be real reconciliation across the India/Pakistan border. In that sense, it is similar to \"Mr & Mrs Iyer\".<br /><br />In the end, we were glad to have seen the film, even though the resolution was heartbreaking. If the UK and US could deal with their own histories of racism with this kind of frankness, they would certainly be better off.'"
            ]
          },
          "metadata": {
            "tags": []
          },
          "execution_count": 6
        }
      ]
    },
    {
      "cell_type": "markdown",
      "metadata": {
        "id": "qhcSM8Pet0hM",
        "colab_type": "text"
      },
      "source": [
        "Можно сразу использовать класс `TextDataBunch` -- базовый датабанч, предназначенный для сегментации текста (хотя корректнее говорить о классификации текстов). По умолчанию он будет игнорировать признак is_valid (деление на обучающую и тестовую выборки можно реализовать механизмом самого **fast.ai**).\n",
        "\n",
        "Если данные организованы по другому (разбиты по каталогам), надо использовать другие методы этого класса."
      ]
    },
    {
      "cell_type": "code",
      "metadata": {
        "id": "YoqziyoHt0hN",
        "colab_type": "code",
        "colab": {}
      },
      "source": [
        "data_lm = TextDataBunch.from_csv(path, 'texts.csv')"
      ],
      "execution_count": 0,
      "outputs": []
    },
    {
      "cell_type": "markdown",
      "metadata": {
        "id": "PTF59Fo6t0hQ",
        "colab_type": "text"
      },
      "source": [
        "На первый взгляд может показаться, что работа с текстом должна происходить быстрее, чем с огромными изображениями, но это не так. Изображения можно сразу загружать в модель, так как они чаще всего представляются просто массивом значений пикселов, которые кодируются вещественным значением между 0 и 1. Однако осмысленный текст составляется не просто из букв, а из слов, и напрямую применять к ним математический аппарат глубокого обучения нельзя. Сперва слова надо преобразовать в числа, причём по какому-то формальному и достаточно действенному способу. Классических подходов здесь два: это **токенизация** (или сегментация, абзацы на предложения, предложения на слова) и **оцифровка** (numericalization). Класс `TextDataBunch` поддерживает оба эти подхода.\n"
      ]
    },
    {
      "cell_type": "code",
      "metadata": {
        "id": "qVFK6mJSt0hR",
        "colab_type": "code",
        "colab": {}
      },
      "source": [
        "data_lm.save()"
      ],
      "execution_count": 0,
      "outputs": []
    },
    {
      "cell_type": "markdown",
      "metadata": {
        "id": "lE8rOvxvt0hU",
        "colab_type": "text"
      },
      "source": [
        "Если процесс загрузки из csv-файла занимает длительное время, результат можно сохранить, чтобы в следующий раз просто быстро восстановить.\n"
      ]
    },
    {
      "cell_type": "code",
      "metadata": {
        "id": "b_0bx5WBt0hV",
        "colab_type": "code",
        "colab": {}
      },
      "source": [
        "data = load_data(path)"
      ],
      "execution_count": 0,
      "outputs": []
    },
    {
      "cell_type": "markdown",
      "metadata": {
        "id": "yDNTQaNRt0hY",
        "colab_type": "text"
      },
      "source": [
        "### Токенизация"
      ]
    },
    {
      "cell_type": "markdown",
      "metadata": {
        "id": "PxvEDP-tt0hZ",
        "colab_type": "text"
      },
      "source": [
        "Самый первый шаг токенизации -- это разбиение \"сырых\" исходных предложений на слова, или **токены**.\n",
        "Для этого:\n",
        "- учитываем пунктуацию;\n",
        "- учитываем, что некоторые слова -- это аббревиатуры или иные сокращения нескольких слов;\n",
        "- учитываем, что обычный текст может быть перемешан с чем-то сторонним (например, научными формулами или кодом программы).\n",
        "\n",
        "Класс `TextClasDataBunch` готовит данные в формате, удобном для текстового классификатора.\n",
        "\n",
        "Результат токенизации можно увидеть наглядно:"
      ]
    },
    {
      "cell_type": "code",
      "metadata": {
        "id": "I_isgO30t0hZ",
        "colab_type": "code",
        "outputId": "d2dc5ef0-f66f-479d-8219-cc0575f7642c",
        "colab": {
          "base_uri": "https://localhost:8080/",
          "height": 289
        }
      },
      "source": [
        "data = TextClasDataBunch.from_csv(path, 'texts.csv')\n",
        "data.show_batch()"
      ],
      "execution_count": 0,
      "outputs": [
        {
          "output_type": "display_data",
          "data": {
            "text/html": [
              ""
            ],
            "text/plain": [
              "<IPython.core.display.HTML object>"
            ]
          },
          "metadata": {
            "tags": []
          }
        },
        {
          "output_type": "display_data",
          "data": {
            "text/html": [
              ""
            ],
            "text/plain": [
              "<IPython.core.display.HTML object>"
            ]
          },
          "metadata": {
            "tags": []
          }
        },
        {
          "output_type": "display_data",
          "data": {
            "text/html": [
              "<table border=\"1\" class=\"dataframe\">\n",
              "  <thead>\n",
              "    <tr style=\"text-align: right;\">\n",
              "      <th>text</th>\n",
              "      <th>target</th>\n",
              "    </tr>\n",
              "  </thead>\n",
              "  <tbody>\n",
              "    <tr>\n",
              "      <td>xxbos xxmaj raising xxmaj victor xxmaj vargas : a xxmaj review \\n \\n  xxmaj you know , xxmaj raising xxmaj victor xxmaj vargas is like sticking your hands into a big , steaming bowl of xxunk . xxmaj it 's warm and gooey , but you 're not sure if it feels right . xxmaj try as i might , no matter how warm and gooey xxmaj raising xxmaj</td>\n",
              "      <td>negative</td>\n",
              "    </tr>\n",
              "    <tr>\n",
              "      <td>xxbos xxup the xxup shop xxup around xxup the xxup corner is one of the xxunk and most feel - good romantic comedies ever made . xxmaj there 's just no getting around that , and it 's hard to actually put one 's feeling for this film into words . xxmaj it 's not one of those films that tries too hard , nor does it come up with</td>\n",
              "      <td>positive</td>\n",
              "    </tr>\n",
              "    <tr>\n",
              "      <td>xxbos xxmaj many neglect that this is n't just a classic due to the fact that it 's the first xxup 3d game , or even the first xxunk - up . xxmaj it 's also one of the first stealth games , one of the xxunk definitely the first ) truly claustrophobic games , and just a pretty well - rounded gaming experience in general . xxmaj with graphics</td>\n",
              "      <td>positive</td>\n",
              "    </tr>\n",
              "    <tr>\n",
              "      <td>xxbos i really wanted to love this show . i truly , honestly did . \\n \\n  xxmaj for the first time , gay viewers get their own version of the \" xxmaj the xxmaj bachelor \" . xxmaj with the help of his obligatory \" hag \" xxmaj xxunk , xxmaj james , a good looking , well - to - do thirty - something has the chance</td>\n",
              "      <td>negative</td>\n",
              "    </tr>\n",
              "    <tr>\n",
              "      <td>xxbos \\n \\n  i 'm sure things did n't exactly go the same way in the real life of xxmaj homer xxmaj hickam as they did in the film adaptation of his book , xxmaj rocket xxmaj boys , but the movie \" xxmaj october xxmaj sky \" ( an xxunk of the book 's title ) is good enough to stand alone . i have not read xxmaj</td>\n",
              "      <td>positive</td>\n",
              "    </tr>\n",
              "  </tbody>\n",
              "</table>"
            ],
            "text/plain": [
              "<IPython.core.display.HTML object>"
            ]
          },
          "metadata": {
            "tags": []
          }
        }
      ]
    },
    {
      "cell_type": "markdown",
      "metadata": {
        "id": "4qrfLF-It0hd",
        "colab_type": "text"
      },
      "source": [
        "Для большей наглядности тексты усечены до 100 токенов. Видно, что исходные тексты не просто были разбиты на слова через пробелы и знаки пунктуации -- добавлены дополнительные пробелы, прописные буквы переведены в строчные, различные английские сокращения выделены в токены, все дополнительные \"нелитературные\" символы удалены, а также добавлен ряд служебных токенов, которые начинаются с xx. Служебные токены заменяют непонятные слова или уточняют разметку текста."
      ]
    },
    {
      "cell_type": "markdown",
      "metadata": {
        "id": "XcD3e6HNt0he",
        "colab_type": "text"
      },
      "source": [
        "### Оцифровка (numericalization)"
      ]
    },
    {
      "cell_type": "markdown",
      "metadata": {
        "id": "Q_b1WqZxt0hf",
        "colab_type": "text"
      },
      "source": [
        "Получив токены из исходного текста, мы преобразуем их в числа. Для этого создаётся список всех слов (словарь) с максимальным размером на 60,000 слов. Причём в него попадают только те слова, которые встречаются хотя бы два раза, а остальные заменяются на токен \"незнакомости\" `UNK`.\n",
        "Словарь (связь токенов с их числовыми индексами) хранится в атрибуте `vocab` нашего датасета, а доступ к нему осуществляется через свойство `itos` (из int в string)."
      ]
    },
    {
      "cell_type": "code",
      "metadata": {
        "id": "41sNx66et0hh",
        "colab_type": "code",
        "outputId": "62e2f8cf-f7a2-4cf2-9965-55f0286196d6",
        "colab": {
          "base_uri": "https://localhost:8080/",
          "height": 187
        }
      },
      "source": [
        "data.vocab.itos[:10]"
      ],
      "execution_count": 0,
      "outputs": [
        {
          "output_type": "execute_result",
          "data": {
            "text/plain": [
              "['xxunk',\n",
              " 'xxpad',\n",
              " 'xxbos',\n",
              " 'xxeos',\n",
              " 'xxfld',\n",
              " 'xxmaj',\n",
              " 'xxup',\n",
              " 'xxrep',\n",
              " 'xxwrep',\n",
              " 'the']"
            ]
          },
          "metadata": {
            "tags": []
          },
          "execution_count": 11
        }
      ]
    },
    {
      "cell_type": "markdown",
      "metadata": {
        "id": "fLG7cKy-t0hk",
        "colab_type": "text"
      },
      "source": [
        "То, что хранится непосредственно в нашем датасете, это токенизированный текст:"
      ]
    },
    {
      "cell_type": "code",
      "metadata": {
        "id": "EbCU4c6ht0hl",
        "colab_type": "code",
        "outputId": "c8faddbe-d677-4b7d-d697-d395e31ba707",
        "colab": {
          "base_uri": "https://localhost:8080/",
          "height": 88
        }
      },
      "source": [
        "data.train_ds[0][0] # текст первого отзыва\n"
      ],
      "execution_count": 0,
      "outputs": [
        {
          "output_type": "execute_result",
          "data": {
            "text/plain": [
              "Text xxbos xxmaj forget the campy ' religious ' movies that have xxunk the television / film market ... this movie has a real feel to it . xxmaj while it may be deemed as a movie that has cheap emotional draws , it also has that message of xxunk , and overall good morals . xxmaj however , i did not like the lighting in this movie ... for a movie dealing with such subject matter , it was too bright . i felt it took away from the overall appeal of the movie , which is almost an xxunk sin , but the recognizable cast , and their performances counteract this xxunk . \n",
              " \n",
              "  xxmaj definitely worth seeing ... buy the xxup dvd ."
            ]
          },
          "metadata": {
            "tags": []
          },
          "execution_count": 12
        }
      ]
    },
    {
      "cell_type": "code",
      "metadata": {
        "id": "q1-uqiTI5rj-",
        "colab_type": "code",
        "outputId": "7d761a58-3742-4721-9d9f-0fbb35937ecb",
        "colab": {
          "base_uri": "https://localhost:8080/",
          "height": 34
        }
      },
      "source": [
        "data.train_ds[0][1] # категория первого отзыва"
      ],
      "execution_count": 0,
      "outputs": [
        {
          "output_type": "execute_result",
          "data": {
            "text/plain": [
              "Category positive"
            ]
          },
          "metadata": {
            "tags": []
          },
          "execution_count": 13
        }
      ]
    },
    {
      "cell_type": "markdown",
      "metadata": {
        "id": "wOIZs3lKt0ho",
        "colab_type": "text"
      },
      "source": [
        "Однако \"внутри\" это всё будут числа:"
      ]
    },
    {
      "cell_type": "code",
      "metadata": {
        "id": "eN8LidRYt0hp",
        "colab_type": "code",
        "outputId": "b3524d47-7f57-4cee-c5bb-f46f6ac23b85",
        "colab": {
          "base_uri": "https://localhost:8080/",
          "height": 34
        }
      },
      "source": [
        "data.train_ds[0][0].data[:10]"
      ],
      "execution_count": 0,
      "outputs": [
        {
          "output_type": "execute_result",
          "data": {
            "text/plain": [
              "array([   2,    5,  832,    9, 2012,   64, 1368,   64,  124,   20])"
            ]
          },
          "metadata": {
            "tags": []
          },
          "execution_count": 14
        }
      ]
    },
    {
      "cell_type": "code",
      "metadata": {
        "id": "JiUHuWEy5yF1",
        "colab_type": "code",
        "outputId": "9fa21118-3fe0-4c7e-9e8d-0eed3cf7f134",
        "colab": {
          "base_uri": "https://localhost:8080/",
          "height": 34
        }
      },
      "source": [
        "data.train_ds[0][1].data"
      ],
      "execution_count": 0,
      "outputs": [
        {
          "output_type": "execute_result",
          "data": {
            "text/plain": [
              "1"
            ]
          },
          "metadata": {
            "tags": []
          },
          "execution_count": 15
        }
      ]
    },
    {
      "cell_type": "markdown",
      "metadata": {
        "id": "wMq6fchbt0hs",
        "colab_type": "text"
      },
      "source": [
        "### Используйте более мощный API"
      ]
    },
    {
      "cell_type": "markdown",
      "metadata": {
        "id": "01KhJ7djt0ht",
        "colab_type": "text"
      },
      "source": [
        "Для обработки текстов в **fast.ai** доступен мощный и гибкий API, который позволяет спускаться к конкретным шагам обработки тестов и при необходимости их пераметризовать, изучать промежуточные результаты. Например, мы можем разбивать датасет на обучающую и тестовую выборки случайно, не учитывая флажок, заданный в csv-файле.\n"
      ]
    },
    {
      "cell_type": "code",
      "metadata": {
        "id": "Gt00rmmgt0hu",
        "colab_type": "code",
        "colab": {}
      },
      "source": [
        "data = (TextList.from_csv(path, 'texts.csv', cols='text') # список из 1000 текстовых отзывов\n",
        "                .split_from_df(col=2) # разделение на обучающую и тестовую выборки\n",
        "                .label_from_df(cols=0) # токенизация\n",
        "                .databunch()) # перевод в формат датабанча\n",
        "print(data)"
      ],
      "execution_count": 0,
      "outputs": []
    },
    {
      "cell_type": "markdown",
      "metadata": {
        "id": "KPFfEDZ9t0hw",
        "colab_type": "text"
      },
      "source": [
        "## Языковая модель"
      ]
    },
    {
      "cell_type": "markdown",
      "metadata": {
        "id": "YUom_Br7t0hx",
        "colab_type": "text"
      },
      "source": [
        "В общем случае обработка естественных текстов может потребовать существенных ресурсов GPU, и эта нагрузка может регулироваться размером одного пакета для обработки."
      ]
    },
    {
      "cell_type": "code",
      "metadata": {
        "id": "SgeQEC9lt0hy",
        "colab_type": "code",
        "colab": {}
      },
      "source": [
        "bs = 48"
      ],
      "execution_count": 0,
      "outputs": []
    },
    {
      "cell_type": "markdown",
      "metadata": {
        "id": "5IrASZMMt0h1",
        "colab_type": "text"
      },
      "source": [
        "Захватим оригинальный датасет целиком (ранее мы использовали его ограниченную версию IMDB_SAMPLE)."
      ]
    },
    {
      "cell_type": "code",
      "metadata": {
        "id": "mjC91uYDt0h3",
        "colab_type": "code",
        "colab": {}
      },
      "source": [
        "path = untar_data(URLs.IMDB)\n",
        "path.ls()"
      ],
      "execution_count": 0,
      "outputs": []
    },
    {
      "cell_type": "code",
      "metadata": {
        "id": "MTl75JZSt0iB",
        "colab_type": "code",
        "colab": {}
      },
      "source": [
        "(path/'train').ls()"
      ],
      "execution_count": 0,
      "outputs": []
    },
    {
      "cell_type": "markdown",
      "metadata": {
        "id": "wpaSNq5Yt0iI",
        "colab_type": "text"
      },
      "source": [
        "Структура датасета IMDB по своему устройству аналогична структуре датасета ImageNet. Единственное отличие, что добавился каталог `unsup` на уровне каталогов `train` и `test`, который содержит неразмеченные данные.\n",
        "\n",
        "Как и в случае с примерами по машинному зрению, классификации образов, не будем обучать модель с полного нуля, а возьмём уже предобученную -- на большом датасете, части википедии [wikitext-103](https://einstein.ai/research/blog/the-wikitext-long-term-dependency-language-modeling-dataset). Такая языковая модель пытается предсказать, каким будет следующее слово, на основе всех предыдущих слов. Этот подход реализован рекуррентными нейронными сетями, которые сохраняют некоторое промежуточное состояние, обновляющееся, когда сеть встречает новое слово (в общем случае, они \"понимают\" следующую сущность, зная всю её предысторию -- например пытаются понять очередной кадр с учётом всей предыдущей видеозаписи).\n",
        "https://habr.com/ru/company/wunderfund/blog/331310/\n",
        "\n",
        "Конечно, модель обучается не смыслу фраз, а лишь учится выявлять типичные слова и словосочетания в текущем контексте, \"стиль\", характерный для каждого из классов.\n",
        "\n",
        "Прежде всего нам поребуется выполнить настройку предобученной модели (fine-tuning) на наш конкретный датасет, так как и стиль отзывов на IMDB  отличается от общего стиля википедии достаточно сильно, и используется немало жаргонных и эмоциональных слов, которыми требуется расширить базовый словарь, на котором тренировалась оригинальная модель.\n"
      ]
    },
    {
      "cell_type": "markdown",
      "metadata": {
        "id": "N7Ibyfl_t0iJ",
        "colab_type": "text"
      },
      "source": [
        "Задействуем попутно и неразмеченные данные для более качественного fine-tuning. Будем также для большей гибкости применять data block API."
      ]
    },
    {
      "cell_type": "code",
      "metadata": {
        "id": "ctZoCfTBt0iK",
        "colab_type": "code",
        "colab": {}
      },
      "source": [
        "data_lm = (TextList.from_folder(path) # входные данные -- из всех доступных каталогов\n",
        "            .filter_by_folder(include=['train', 'test', 'unsup']) # отфильтруем из них только те, которые в рабочих каталогах\n",
        "            .split_by_rand_pct(0.1) # в тестовую выборку выделим 10% обзоров (10,000 обзоров)\n",
        "            .label_for_lm() # применим языковую модель для разметки данных\n",
        "            .databunch(bs=bs)) # переводим в итоговый формат датабанча\n",
        "\n",
        "data_lm\n",
        "data_lm.save('data_lm.pkl')"
      ],
      "execution_count": 0,
      "outputs": []
    },
    {
      "cell_type": "markdown",
      "metadata": {
        "id": "WNkxvvHmt0iN",
        "colab_type": "text"
      },
      "source": [
        "Класс `TextDataBunch` для языковой модели игнорирует разметку датасета. Он перемешивает тексты на каждой эпохе перед соединением их вместе (так делается только для обучающего датасета, в тестовых данных текст не перемешивается).\n",
        "\n",
        "Для каждого пакета (их количество -- это параметр bs) будет выполняться попытка прогноза следующего слова."
      ]
    },
    {
      "cell_type": "code",
      "metadata": {
        "id": "CayHabjit0iN",
        "colab_type": "code",
        "colab": {}
      },
      "source": [
        "data_lm = load_data(path, 'data_lm.pkl', bs=bs)"
      ],
      "execution_count": 0,
      "outputs": []
    },
    {
      "cell_type": "code",
      "metadata": {
        "id": "bJJTZNSbt0iR",
        "colab_type": "code",
        "outputId": "b0b8a53e-b7f8-40f0-a7f7-7f0d088f2a65",
        "colab": {
          "base_uri": "https://localhost:8080/",
          "height": 289
        }
      },
      "source": [
        "data_lm.show_batch()"
      ],
      "execution_count": 0,
      "outputs": [
        {
          "output_type": "display_data",
          "data": {
            "text/html": [
              "<table border=\"1\" class=\"dataframe\">\n",
              "  <thead>\n",
              "    <tr style=\"text-align: right;\">\n",
              "      <th>idx</th>\n",
              "      <th>text</th>\n",
              "    </tr>\n",
              "  </thead>\n",
              "  <tbody>\n",
              "    <tr>\n",
              "      <td>0</td>\n",
              "      <td>a twist of fate happens xxmaj pinky begins to think one should n't look a gift horse in the mouth . \\n \\n  xxmaj also known as xxmaj the xxmaj xxunk xxmaj bank xxmaj caper { amongst others ! } , this is a hugely enjoyable piece that is xxunk 1970s . xxmaj london and all it 's highly xxunk xxunk are xxunk up like a xxmaj christmas tree</td>\n",
              "    </tr>\n",
              "    <tr>\n",
              "      <td>1</td>\n",
              "      <td>see what he sees , feel what he feels in some situations . xxmaj this movie does not leave you wanting to know more , or xxunk a xxunk in the plot . xxmaj there are xxup no xxunk ( in my opinion ) . i have always been a fan of foreign films , especially now with movies being made so poorly in xxmaj america . i really enjoy</td>\n",
              "    </tr>\n",
              "    <tr>\n",
              "      <td>2</td>\n",
              "      <td>. xxmaj does anyone out there have a copy of the xxmaj bravo concert for sale ? ? xxmaj please , if there is an upcoming release , let us all know . i xxunk the xxmaj bravo site , but there is no future date xxunk for a repeat performance by the most appealing guys ever xxunk , the xxmaj dan xxmaj band . xxmaj what great energy they</td>\n",
              "    </tr>\n",
              "    <tr>\n",
              "      <td>3</td>\n",
              "      <td>xxmaj cinema , and today it stands tall , proud and dark as a xxunk and excellent piece of work . xxunk / 10 xxbos xxmaj this movies made me suffer and i xxup loved xxup it ! xxup loved xxup it ! xxmaj it haunted me for days . i think xxmaj erika is the kind of character you simultaneously xxunk and xxunk . xxmaj the most terrifying sex</td>\n",
              "    </tr>\n",
              "    <tr>\n",
              "      <td>4</td>\n",
              "      <td>the xxmaj italian xxmaj job \" is probably xxunk mixed up with the events xxunk in my life when i saw it ; xxmaj this is the first movie i saw after i had just xxunk a job after 8 months of xxunk and going back to school for xxunk . xxmaj money was still tight , but i no longer had to choose between seeing a movie in the</td>\n",
              "    </tr>\n",
              "  </tbody>\n",
              "</table>"
            ],
            "text/plain": [
              "<IPython.core.display.HTML object>"
            ]
          },
          "metadata": {
            "tags": []
          }
        }
      ]
    },
    {
      "cell_type": "markdown",
      "metadata": {
        "id": "RlLnm510t0iV",
        "colab_type": "text"
      },
      "source": [
        "Подключаем готовую предварительно обученную языковую модель с помощью класса `language_model_learner`. Параметр drop_mult -- коэффициент масштабирования, применяемый ко всем весам модели.\n",
        "\n",
        "**LSTM** -- это рекуррентная нейронная сеть долгой краткосрочной памяти, более подробно о ней рассказывается по ссылке выше на habr.\n",
        "\n",
        "Классическая теория LSTM: https://arxiv.org/abs/1708.02182\n",
        "\n"
      ]
    },
    {
      "cell_type": "code",
      "metadata": {
        "id": "qXs_uu9ot0iX",
        "colab_type": "code",
        "colab": {}
      },
      "source": [
        "learn = language_model_learner(data_lm, AWD_LSTM, drop_mult=0.3) # загружаем готовую модель"
      ],
      "execution_count": 0,
      "outputs": []
    },
    {
      "cell_type": "code",
      "metadata": {
        "id": "fzHlnV4Tt0iZ",
        "colab_type": "code",
        "colab": {}
      },
      "source": [
        "learn.lr_find() # готовимся к настройке параметров"
      ],
      "execution_count": 0,
      "outputs": []
    },
    {
      "cell_type": "code",
      "metadata": {
        "id": "ayRpXGf0t0ic",
        "colab_type": "code",
        "outputId": "f03c33f8-7e61-4c67-a622-84652fc4336e",
        "colab": {
          "base_uri": "https://localhost:8080/",
          "height": 279
        }
      },
      "source": [
        "learn.recorder.plot(skip_end=15) # визуализируем лосс x скорость обучения для выбора нужного диапазона"
      ],
      "execution_count": 0,
      "outputs": [
        {
          "output_type": "display_data",
          "data": {
            "image/png": "[encoded data removed]",
            "text/plain": [
              "<Figure size 432x288 with 1 Axes>"
            ]
          },
          "metadata": {
            "tags": []
          }
        }
      ]
    },
    {
      "cell_type": "code",
      "metadata": {
        "id": "M04uVQQht0if",
        "colab_type": "code",
        "outputId": "9aa0f8fa-975d-4f67-f7cf-6db07b006e5c",
        "colab": {
          "base_uri": "https://localhost:8080/",
          "height": 80
        }
      },
      "source": [
        "learn.fit_one_cycle(1, 1e-2, moms=(0.8,0.7)) # запускаем дообучение на один цикл"
      ],
      "execution_count": 0,
      "outputs": [
        {
          "output_type": "display_data",
          "data": {
            "text/html": [
              "<table border=\"1\" class=\"dataframe\">\n",
              "  <thead>\n",
              "    <tr style=\"text-align: left;\">\n",
              "      <th>epoch</th>\n",
              "      <th>train_loss</th>\n",
              "      <th>valid_loss</th>\n",
              "      <th>accuracy</th>\n",
              "      <th>time</th>\n",
              "    </tr>\n",
              "  </thead>\n",
              "  <tbody>\n",
              "    <tr>\n",
              "      <td>0</td>\n",
              "      <td>4.004040</td>\n",
              "      <td>3.757488</td>\n",
              "      <td>0.294970</td>\n",
              "      <td>00:13</td>\n",
              "    </tr>\n",
              "  </tbody>\n",
              "</table>"
            ],
            "text/plain": [
              "<IPython.core.display.HTML object>"
            ]
          },
          "metadata": {
            "tags": []
          }
        }
      ]
    },
    {
      "cell_type": "code",
      "metadata": {
        "id": "LS3xu9l_t0ij",
        "colab_type": "code",
        "colab": {}
      },
      "source": [
        "learn.save('fit_head')"
      ],
      "execution_count": 0,
      "outputs": []
    },
    {
      "cell_type": "code",
      "metadata": {
        "id": "QLL-kmk4t0il",
        "colab_type": "code",
        "colab": {}
      },
      "source": [
        "learn.load('fit_head');"
      ],
      "execution_count": 0,
      "outputs": []
    },
    {
      "cell_type": "markdown",
      "metadata": {
        "id": "rxCBp13wt0ip",
        "colab_type": "text"
      },
      "source": [
        "Можем также продолжить fine-tuning, разморозив всю модель (обучение продлится несколько часов)."
      ]
    },
    {
      "cell_type": "code",
      "metadata": {
        "id": "HiShpT3Bt0iq",
        "colab_type": "code",
        "colab": {}
      },
      "source": [
        "learn.unfreeze() # разморозка"
      ],
      "execution_count": 0,
      "outputs": []
    },
    {
      "cell_type": "code",
      "metadata": {
        "id": "4sLb6UcPt0is",
        "colab_type": "code",
        "outputId": "d93c6b9a-dab2-4e60-ebb7-9f45711c1deb",
        "colab": {}
      },
      "source": [
        "learn.fit_one_cycle(10, 1e-3, moms=(0.8,0.7)) # обучение целиком"
      ],
      "execution_count": 0,
      "outputs": [
        {
          "output_type": "display_data",
          "data": {
            "text/html": [
              "Total time: 3:08:33 <p><table style='width:300px; margin-bottom:10px'>\n",
              "  <tr>\n",
              "    <th>epoch</th>\n",
              "    <th>train_loss</th>\n",
              "    <th>valid_loss</th>\n",
              "    <th>accuracy</th>\n",
              "  </tr>\n",
              "  <tr>\n",
              "    <th>1</th>\n",
              "    <th>3.958489</th>\n",
              "    <th>3.885153</th>\n",
              "    <th>0.310139</th>\n",
              "  </tr>\n",
              "  <tr>\n",
              "    <th>2</th>\n",
              "    <th>3.871605</th>\n",
              "    <th>3.814774</th>\n",
              "    <th>0.319821</th>\n",
              "  </tr>\n",
              "  <tr>\n",
              "    <th>3</th>\n",
              "    <th>3.804589</th>\n",
              "    <th>3.767966</th>\n",
              "    <th>0.325793</th>\n",
              "  </tr>\n",
              "  <tr>\n",
              "    <th>4</th>\n",
              "    <th>3.771248</th>\n",
              "    <th>3.729666</th>\n",
              "    <th>0.330175</th>\n",
              "  </tr>\n",
              "  <tr>\n",
              "    <th>5</th>\n",
              "    <th>3.677534</th>\n",
              "    <th>3.699244</th>\n",
              "    <th>0.333532</th>\n",
              "  </tr>\n",
              "  <tr>\n",
              "    <th>6</th>\n",
              "    <th>3.644140</th>\n",
              "    <th>3.674071</th>\n",
              "    <th>0.336564</th>\n",
              "  </tr>\n",
              "  <tr>\n",
              "    <th>7</th>\n",
              "    <th>3.603597</th>\n",
              "    <th>3.655099</th>\n",
              "    <th>0.338747</th>\n",
              "  </tr>\n",
              "  <tr>\n",
              "    <th>8</th>\n",
              "    <th>3.524271</th>\n",
              "    <th>3.641979</th>\n",
              "    <th>0.340568</th>\n",
              "  </tr>\n",
              "  <tr>\n",
              "    <th>9</th>\n",
              "    <th>3.505476</th>\n",
              "    <th>3.636194</th>\n",
              "    <th>0.341246</th>\n",
              "  </tr>\n",
              "  <tr>\n",
              "    <th>10</th>\n",
              "    <th>3.461232</th>\n",
              "    <th>3.635963</th>\n",
              "    <th>0.341371</th>\n",
              "  </tr>\n",
              "</table>\n"
            ],
            "text/plain": [
              "<IPython.core.display.HTML object>"
            ]
          },
          "metadata": {
            "tags": []
          }
        }
      ]
    },
    {
      "cell_type": "code",
      "metadata": {
        "id": "IOcJoK95t0iv",
        "colab_type": "code",
        "colab": {}
      },
      "source": [
        "learn.save('fine_tuned')"
      ],
      "execution_count": 0,
      "outputs": []
    },
    {
      "cell_type": "markdown",
      "metadata": {
        "id": "1HW5w6KIt0iy",
        "colab_type": "text"
      },
      "source": [
        "Теперь проверим, насколько хороша наша модель -- посмотрим, что она будет предсказывать на основании нескольких первых слов."
      ]
    },
    {
      "cell_type": "code",
      "metadata": {
        "id": "nanQvhX0t0iy",
        "colab_type": "code",
        "colab": {}
      },
      "source": [
        "learn.load('fine_tuned');"
      ],
      "execution_count": 0,
      "outputs": []
    },
    {
      "cell_type": "code",
      "metadata": {
        "id": "-qpoAcb-t0i0",
        "colab_type": "code",
        "colab": {}
      },
      "source": [
        "TEXT = \"I liked this movie because\" # первые слова, по которым делается прогноз; вариант для позитивного отзыва\n",
        "# TEXT = \"I displease this movie because\" # проверка для негативного отзыва\n",
        "N_WORDS = 40 # количество последующих слов в прогнозе модели\n",
        "N_SENTENCES = 2 # количество фраз в прогнозе модели"
      ],
      "execution_count": 0,
      "outputs": []
    },
    {
      "cell_type": "code",
      "metadata": {
        "id": "e_nKNOyQt0i3",
        "colab_type": "code",
        "outputId": "dff86280-99eb-453f-de7a-fa1a9ec6bbcf",
        "colab": {
          "base_uri": "https://localhost:8080/",
          "height": 71
        }
      },
      "source": [
        "print(\"\\n\".join(learn.predict(TEXT, N_WORDS, temperature=0.75) for _ in range(N_SENTENCES))) # генерируем текст отзыва"
      ],
      "execution_count": 0,
      "outputs": [
        {
          "output_type": "stream",
          "text": [
            "I liked this movie because i thought it would make a movie that i cried . This is not so much a movie as i 've seen . It is a serious movie , but it 's a cheesy film . It\n",
            "I liked this movie because i had the film i was trying to find in i Love You Again , but i was in my hands - on the screen with my sister Anne and she was the outstanding actress .\n"
          ],
          "name": "stdout"
        }
      ]
    },
    {
      "cell_type": "markdown",
      "metadata": {
        "id": "k7MW-SeMt0i7",
        "colab_type": "text"
      },
      "source": [
        "Сохранить в заключение требуется не только модель, но и её **кодировщик** (**encoder**, модуль, который отвечает за создание и обновление внутреннего состояния рекуррентной сети), чтобы не выполнять этот шаг каждый раз заново."
      ]
    },
    {
      "cell_type": "code",
      "metadata": {
        "id": "sC8GXWHZt0i8",
        "colab_type": "code",
        "colab": {}
      },
      "source": [
        "learn.save_encoder('fine_tuned_enc')"
      ],
      "execution_count": 0,
      "outputs": []
    },
    {
      "cell_type": "markdown",
      "metadata": {
        "id": "jZDIkTXqt0i-",
        "colab_type": "text"
      },
      "source": [
        "## Классификатор"
      ]
    },
    {
      "cell_type": "markdown",
      "metadata": {
        "id": "V1h0WN7Ht0i_",
        "colab_type": "text"
      },
      "source": [
        "Наконец, мы хотим заняться классификацией оригинальных отзывов."
      ]
    },
    {
      "cell_type": "code",
      "metadata": {
        "id": "oHn9cGYWt0jA",
        "colab_type": "code",
        "colab": {}
      },
      "source": [
        "path = untar_data(URLs.IMDB)"
      ],
      "execution_count": 0,
      "outputs": []
    },
    {
      "cell_type": "code",
      "metadata": {
        "id": "GfFAt9adt0jD",
        "colab_type": "code",
        "colab": {}
      },
      "source": [
        "data_clas = (TextList.from_folder(path, vocab=data_lm.vocab) # настраиваем доступ к сырому датасету\n",
        "             .split_by_folder(valid='test') # явно укажем тестовую выборку, которая уже размечена\n",
        "             .label_from_folder(classes=['neg', 'pos']) # возьмём готовую разметку\n",
        "             .databunch(bs=bs))\n",
        "data_clas.save('data_clas.pkl')"
      ],
      "execution_count": 0,
      "outputs": []
    },
    {
      "cell_type": "code",
      "metadata": {
        "id": "j0RAPnlat0jG",
        "colab_type": "code",
        "colab": {}
      },
      "source": [
        "data_clas = load_data(path, 'data_clas.pkl', bs=bs)"
      ],
      "execution_count": 0,
      "outputs": []
    },
    {
      "cell_type": "code",
      "metadata": {
        "id": "AWxdblTst0jJ",
        "colab_type": "code",
        "outputId": "f04f6cb9-a01a-4378-eae9-35d1cec25dd9",
        "colab": {
          "base_uri": "https://localhost:8080/",
          "height": 306
        }
      },
      "source": [
        "data_clas.show_batch()"
      ],
      "execution_count": 0,
      "outputs": [
        {
          "output_type": "display_data",
          "data": {
            "text/html": [
              "<table border=\"1\" class=\"dataframe\">\n",
              "  <thead>\n",
              "    <tr style=\"text-align: right;\">\n",
              "      <th>text</th>\n",
              "      <th>target</th>\n",
              "    </tr>\n",
              "  </thead>\n",
              "  <tbody>\n",
              "    <tr>\n",
              "      <td>xxbos xxmaj match 1 : xxmaj tag xxmaj team xxmaj table xxmaj match xxmaj bubba xxmaj ray and xxmaj spike xxmaj dudley vs xxmaj eddie xxmaj guerrero and xxmaj chris xxmaj benoit xxmaj bubba xxmaj ray and xxmaj spike xxmaj dudley started things off with a xxmaj tag xxmaj team xxmaj table xxmaj match against xxmaj eddie xxmaj guerrero and xxmaj chris xxmaj benoit . xxmaj according to the rules</td>\n",
              "      <td>pos</td>\n",
              "    </tr>\n",
              "    <tr>\n",
              "      <td>xxbos xxmaj some have praised _ xxunk _ as a xxmaj disney adventure for adults . i do n't think so -- at least not for thinking adults . \\n \\n  xxmaj this script suggests a beginning as a live - action movie , that struck someone as the type of crap you can not sell to adults anymore . xxmaj the \" crack staff \" of many older</td>\n",
              "      <td>neg</td>\n",
              "    </tr>\n",
              "    <tr>\n",
              "      <td>xxbos * * * xxmaj warning - this review contains \" plot spoilers , \" though nothing could \" spoil \" this movie any more than it already is . xxmaj it really xxup is that bad . * * * \\n \\n  xxmaj before i begin , i 'd like to let everyone know that this definitely is one of those so - incredibly - bad - that</td>\n",
              "      <td>neg</td>\n",
              "    </tr>\n",
              "    <tr>\n",
              "      <td>xxbos xxmaj god ! xxmaj zorro has been the the subject of about as many movies as xxmaj tarzan , and probably had about as many actors in the title role . \\n \\n  xxmaj this xxmaj serial is one of my own personal favourites , and as previously stated , it is one of the xxmaj top 5 xxmaj sound xxmaj serials . xxmaj oddly enough , this</td>\n",
              "      <td>pos</td>\n",
              "    </tr>\n",
              "    <tr>\n",
              "      <td>xxbos xxmaj pier xxmaj paolo xxmaj pasolini , or xxmaj pee - pee - pee as i prefer to call him ( due to his love of showing male genitals ) , is perhaps xxup the most overrated xxmaj european xxmaj marxist director - and they are thick on the ground . xxmaj how anyone can see \" art \" in this messy , cheap sex - romp concoction is</td>\n",
              "      <td>neg</td>\n",
              "    </tr>\n",
              "  </tbody>\n",
              "</table>"
            ],
            "text/plain": [
              "<IPython.core.display.HTML object>"
            ]
          },
          "metadata": {
            "tags": []
          }
        }
      ]
    },
    {
      "cell_type": "markdown",
      "metadata": {
        "id": "JCwtEDX7t0jR",
        "colab_type": "text"
      },
      "source": [
        "Подготовим модель, которая будет классифицировать наши размеченные обзоры."
      ]
    },
    {
      "cell_type": "code",
      "metadata": {
        "id": "ejmSdngNt0jS",
        "colab_type": "code",
        "colab": {}
      },
      "source": [
        "learn = text_classifier_learner(data_clas, AWD_LSTM, drop_mult=0.5)\n",
        "learn.load_encoder('fine_tuned_enc') # подгружаем ранее сохранённый кодировщик для языковой модели"
      ],
      "execution_count": 0,
      "outputs": []
    },
    {
      "cell_type": "code",
      "metadata": {
        "id": "Ivx3JFMot0jU",
        "colab_type": "code",
        "colab": {}
      },
      "source": [
        "learn.lr_find()"
      ],
      "execution_count": 0,
      "outputs": []
    },
    {
      "cell_type": "code",
      "metadata": {
        "id": "2FZweNVXt0jW",
        "colab_type": "code",
        "outputId": "0780cccc-c150-4309-e3e1-476538e34729",
        "colab": {
          "base_uri": "https://localhost:8080/",
          "height": 279
        }
      },
      "source": [
        "learn.recorder.plot()"
      ],
      "execution_count": 0,
      "outputs": [
        {
          "output_type": "display_data",
          "data": {
            "image/png": "[encoded data removed]",
            "text/plain": [
              "<Figure size 432x288 with 1 Axes>"
            ]
          },
          "metadata": {
            "tags": []
          }
        }
      ]
    },
    {
      "cell_type": "code",
      "metadata": {
        "id": "GFgIMIz9t0jY",
        "colab_type": "code",
        "outputId": "9f95f6d4-b86d-476c-ab71-bf9f9138e271",
        "colab": {
          "base_uri": "https://localhost:8080/",
          "height": 80
        }
      },
      "source": [
        "learn.fit_one_cycle(1, 2e-2, moms=(0.8,0.7))"
      ],
      "execution_count": 0,
      "outputs": [
        {
          "output_type": "display_data",
          "data": {
            "text/html": [
              "<table border=\"1\" class=\"dataframe\">\n",
              "  <thead>\n",
              "    <tr style=\"text-align: left;\">\n",
              "      <th>epoch</th>\n",
              "      <th>train_loss</th>\n",
              "      <th>valid_loss</th>\n",
              "      <th>accuracy</th>\n",
              "      <th>time</th>\n",
              "    </tr>\n",
              "  </thead>\n",
              "  <tbody>\n",
              "    <tr>\n",
              "      <td>0</td>\n",
              "      <td>0.424404</td>\n",
              "      <td>0.345032</td>\n",
              "      <td>0.849000</td>\n",
              "      <td>04:31</td>\n",
              "    </tr>\n",
              "  </tbody>\n",
              "</table>"
            ],
            "text/plain": [
              "<IPython.core.display.HTML object>"
            ]
          },
          "metadata": {
            "tags": []
          }
        }
      ]
    },
    {
      "cell_type": "code",
      "metadata": {
        "id": "x4rPfIRwt0jc",
        "colab_type": "code",
        "colab": {}
      },
      "source": [
        "learn.save('first')"
      ],
      "execution_count": 0,
      "outputs": []
    },
    {
      "cell_type": "code",
      "metadata": {
        "id": "vAu5k3lHt0je",
        "colab_type": "code",
        "colab": {}
      },
      "source": [
        "learn.load('first');"
      ],
      "execution_count": 0,
      "outputs": []
    },
    {
      "cell_type": "code",
      "metadata": {
        "id": "6QrSGVwKt0jg",
        "colab_type": "code",
        "outputId": "c8b44aad-6448-4c52-9687-d3de1daaad1a",
        "colab": {
          "base_uri": "https://localhost:8080/",
          "height": 80
        }
      },
      "source": [
        "learn.freeze_to(-2) # размораживаем все слои, кроме двух последних\n",
        "learn.fit_one_cycle(1, slice(1e-2/(2.6**4),1e-2), moms=(0.8,0.7))"
      ],
      "execution_count": 0,
      "outputs": [
        {
          "output_type": "display_data",
          "data": {
            "text/html": [
              "<table border=\"1\" class=\"dataframe\">\n",
              "  <thead>\n",
              "    <tr style=\"text-align: left;\">\n",
              "      <th>epoch</th>\n",
              "      <th>train_loss</th>\n",
              "      <th>valid_loss</th>\n",
              "      <th>accuracy</th>\n",
              "      <th>time</th>\n",
              "    </tr>\n",
              "  </thead>\n",
              "  <tbody>\n",
              "    <tr>\n",
              "      <td>0</td>\n",
              "      <td>0.302241</td>\n",
              "      <td>0.230162</td>\n",
              "      <td>0.906920</td>\n",
              "      <td>05:16</td>\n",
              "    </tr>\n",
              "  </tbody>\n",
              "</table>"
            ],
            "text/plain": [
              "<IPython.core.display.HTML object>"
            ]
          },
          "metadata": {
            "tags": []
          }
        }
      ]
    },
    {
      "cell_type": "code",
      "metadata": {
        "id": "QZqClZGut0jj",
        "colab_type": "code",
        "colab": {}
      },
      "source": [
        "learn.save('second')"
      ],
      "execution_count": 0,
      "outputs": []
    },
    {
      "cell_type": "code",
      "metadata": {
        "id": "131_iiXxt0jl",
        "colab_type": "code",
        "colab": {}
      },
      "source": [
        "learn.load('second');"
      ],
      "execution_count": 0,
      "outputs": []
    },
    {
      "cell_type": "code",
      "metadata": {
        "id": "O9jAaEs4t0jn",
        "colab_type": "code",
        "outputId": "aac0d4e4-44ac-4a4a-bd74-18b73d3a860d",
        "colab": {
          "base_uri": "https://localhost:8080/",
          "height": 80
        }
      },
      "source": [
        "learn.freeze_to(-3) # размораживаем все слои, кроме трёх последних\n",
        "learn.fit_one_cycle(1, slice(5e-3/(2.6**4),5e-3), moms=(0.8,0.7))"
      ],
      "execution_count": 0,
      "outputs": [
        {
          "output_type": "display_data",
          "data": {
            "text/html": [
              "<table border=\"1\" class=\"dataframe\">\n",
              "  <thead>\n",
              "    <tr style=\"text-align: left;\">\n",
              "      <th>epoch</th>\n",
              "      <th>train_loss</th>\n",
              "      <th>valid_loss</th>\n",
              "      <th>accuracy</th>\n",
              "      <th>time</th>\n",
              "    </tr>\n",
              "  </thead>\n",
              "  <tbody>\n",
              "    <tr>\n",
              "      <td>0</td>\n",
              "      <td>0.244231</td>\n",
              "      <td>0.189091</td>\n",
              "      <td>0.927440</td>\n",
              "      <td>07:09</td>\n",
              "    </tr>\n",
              "  </tbody>\n",
              "</table>"
            ],
            "text/plain": [
              "<IPython.core.display.HTML object>"
            ]
          },
          "metadata": {
            "tags": []
          }
        }
      ]
    },
    {
      "cell_type": "code",
      "metadata": {
        "id": "sRNvFyx5t0jq",
        "colab_type": "code",
        "colab": {}
      },
      "source": [
        "learn.save('third')"
      ],
      "execution_count": 0,
      "outputs": []
    },
    {
      "cell_type": "code",
      "metadata": {
        "id": "rEHiSSevt0js",
        "colab_type": "code",
        "colab": {}
      },
      "source": [
        "learn.load('third');"
      ],
      "execution_count": 0,
      "outputs": []
    },
    {
      "cell_type": "code",
      "metadata": {
        "id": "CMaykwuZt0ju",
        "colab_type": "code",
        "outputId": "7cc7cfd1-e5bf-42bf-828f-a4761ee61a00",
        "colab": {
          "base_uri": "https://localhost:8080/",
          "height": 111
        }
      },
      "source": [
        "learn.unfreeze() # размораживаем всё\n",
        "learn.fit_one_cycle(2, slice(1e-3/(2.6**4),1e-3), moms=(0.8,0.7))"
      ],
      "execution_count": 0,
      "outputs": [
        {
          "output_type": "display_data",
          "data": {
            "text/html": [
              "<table border=\"1\" class=\"dataframe\">\n",
              "  <thead>\n",
              "    <tr style=\"text-align: left;\">\n",
              "      <th>epoch</th>\n",
              "      <th>train_loss</th>\n",
              "      <th>valid_loss</th>\n",
              "      <th>accuracy</th>\n",
              "      <th>time</th>\n",
              "    </tr>\n",
              "  </thead>\n",
              "  <tbody>\n",
              "    <tr>\n",
              "      <td>0</td>\n",
              "      <td>0.217697</td>\n",
              "      <td>0.174612</td>\n",
              "      <td>0.932720</td>\n",
              "      <td>10:17</td>\n",
              "    </tr>\n",
              "    <tr>\n",
              "      <td>1</td>\n",
              "      <td>0.209001</td>\n",
              "      <td>0.173497</td>\n",
              "      <td>0.934000</td>\n",
              "      <td>10:28</td>\n",
              "    </tr>\n",
              "  </tbody>\n",
              "</table>"
            ],
            "text/plain": [
              "<IPython.core.display.HTML object>"
            ]
          },
          "metadata": {
            "tags": []
          }
        }
      ]
    },
    {
      "cell_type": "code",
      "metadata": {
        "id": "MUu0SQzLt0jw",
        "colab_type": "code",
        "outputId": "8fd26654-6b48-4516-81f3-a06841ab4548",
        "colab": {
          "base_uri": "https://localhost:8080/",
          "height": 34
        }
      },
      "source": [
        "learn.predict(\"I really loved that movie, it was awesome!\")"
      ],
      "execution_count": 0,
      "outputs": [
        {
          "output_type": "execute_result",
          "data": {
            "text/plain": [
              "(Category pos, tensor(1), tensor([6.6803e-08, 1.0000e+00]))"
            ]
          },
          "metadata": {
            "tags": []
          },
          "execution_count": 41
        }
      ]
    },
    {
      "cell_type": "markdown",
      "metadata": {
        "id": "dMDLN5-ozk3-",
        "colab_type": "text"
      },
      "source": [
        "## Задание\n",
        "\n",
        "Выполните вышеописанные шаги (использование языковой модели и классификатора) для генерации и классификации текстов на русском языке. Для этого потребуется языковая модель **ULMFit**, много наработок по которой можно нагуглить запросом `Russian ULMFit`.\n",
        "\n"
      ]
    }
  ]
}