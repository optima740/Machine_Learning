{
  "nbformat": 4,
  "nbformat_minor": 0,
  "metadata": {
    "kernelspec": {
      "name": "python3",
      "display_name": "Python 3"
    },
    "colab": {
      "name": "lesson2-sgd.ipynb",
      "provenance": [],
      "collapsed_sections": []
    },
    "accelerator": "GPU"
  },
  "cells": [
    {
      "cell_type": "markdown",
      "metadata": {
        "id": "8_SU0fE0_tZh",
        "colab_type": "text"
      },
      "source": [
        "# 3. Линейная регрессия"
      ]
    },
    {
      "cell_type": "markdown",
      "metadata": {
        "id": "0m8_hrku_tZg",
        "colab_type": "text"
      },
      "source": [
        "Вернёмся к самому началу -- первым ноутбукам по оригинальному PyTorch, где мы начинали его изучение с линейной регрессии:\n",
        "https://colab.research.google.com/drive/1JtHSP8iNzBdCE98r5FJsDCoY7yaWxzGr\n",
        "\n",
        "Посмотрим на эту тему с позиции авторов **fast.ai**. В частности, вспомним про классический в глубоком обучении метод **оптимизации**, называемый **стохастический градиентный спуск** (Stochastic Gradient Descent, SGD), и рассмотрим красивое графическое, анимационное представление соответствующего примера.\n",
        "\n",
        "---\n",
        "\n",
        "По материалам курсов https://course.fast.ai/\n",
        "\n",
        "*переведено, дополнено, адаптировано, расширено https://vk.com/lambda_brain*\n",
        "*январь 2020*\n",
        "\n",
        "---\n"
      ]
    },
    {
      "cell_type": "code",
      "metadata": {
        "id": "OZqUH6fG_tZY",
        "colab_type": "code",
        "colab": {}
      },
      "source": [
        "%matplotlib inline\n",
        "from fastai.basics import *"
      ],
      "execution_count": 0,
      "outputs": []
    },
    {
      "cell_type": "markdown",
      "metadata": {
        "id": "SkoyBPbq_tZj",
        "colab_type": "text"
      },
      "source": [
        "Задача линейной регрессии -- аппроксимировать множество точек одной линией (дать линейный прогноз).\n",
        "Далее упоминаются **тензоры**, с которыми можно познакомиться в ноутбуке по первой ссылке выше.  "
      ]
    },
    {
      "cell_type": "code",
      "metadata": {
        "id": "YZfY7qeR_tZk",
        "colab_type": "code",
        "colab": {}
      },
      "source": [
        "n = 100 # сгенерируем сто случайных точек"
      ],
      "execution_count": 0,
      "outputs": []
    },
    {
      "cell_type": "code",
      "metadata": {
        "id": "fkINz8qt_tZo",
        "colab_type": "code",
        "outputId": "46d1797a-b3eb-492f-c25e-f6ed9cfbf61c",
        "colab": {
          "base_uri": "https://localhost:8080/",
          "height": 102
        }
      },
      "source": [
        "x = torch.ones(n, 2) # сформируем единичный тензор из 100 двумерных точек\n",
        "x[:,0].uniform_(-1., 1) # растянем первое измерение на диапазон -1 .. +1\n",
        "x[:5] # первые пять точек"
      ],
      "execution_count": 0,
      "outputs": [
        {
          "output_type": "execute_result",
          "data": {
            "text/plain": [
              "tensor([[ 0.3708,  1.0000],\n",
              "        [ 0.6490,  1.0000],\n",
              "        [ 0.6341,  1.0000],\n",
              "        [-0.2087,  1.0000],\n",
              "        [-0.5039,  1.0000]])"
            ]
          },
          "metadata": {
            "tags": []
          },
          "execution_count": 4
        }
      ]
    },
    {
      "cell_type": "code",
      "metadata": {
        "id": "noJkaiY__tZt",
        "colab_type": "code",
        "colab": {}
      },
      "source": [
        "a = tensor(3.,2); a # создадим тензор-множитель"
      ],
      "execution_count": 0,
      "outputs": []
    },
    {
      "cell_type": "code",
      "metadata": {
        "id": "McdtADe5_tZx",
        "colab_type": "code",
        "colab": {}
      },
      "source": [
        "y = x @ a + torch.rand(n) # выполняем матричное умножение ('@' в python 3.5) и добавляем случайный шум"
      ],
      "execution_count": 0,
      "outputs": []
    },
    {
      "cell_type": "code",
      "metadata": {
        "id": "Ut05dP0d_tZ1",
        "colab_type": "code",
        "outputId": "ac95afac-cb3d-4cda-c106-01dc3667c072",
        "colab": {
          "base_uri": "https://localhost:8080/",
          "height": 268
        }
      },
      "source": [
        "plt.scatter(x[:,0], y); # что получилось"
      ],
      "execution_count": 0,
      "outputs": [
        {
          "output_type": "display_data",
          "data": {
            "image/png": "[encoded data removed]",
            "text/plain": [
              "<Figure size 432x288 with 1 Axes>"
            ]
          },
          "metadata": {
            "tags": []
          }
        }
      ]
    },
    {
      "cell_type": "markdown",
      "metadata": {
        "id": "2IGE6GW7_tZ4",
        "colab_type": "text"
      },
      "source": [
        "Такое множество, очевидно, хорошо подходит для линейной аппроксимации, однако какие коэффициенты прямой (**веса**) тут подойдут лучше всего? Чтобы их найти, надо минимизировать по какому-то критерию разброс случайных точек по отношению к конкретной прямой x * a. При этом коэффициент `a` как раз и будет искомым значением, исходно он нам  неизвестен даже примерно.\n",
        "Функция, оценивающая такую степень отклонения, называется функцией ошибок, или функцией потерь (кратко, **лосс**). Именно её значение при выборе весов и нужно минимизировать. По умолчанию в качестве такой функции часто выбирают стандартное среднеквадратичное отклонение."
      ]
    },
    {
      "cell_type": "code",
      "metadata": {
        "id": "5BcruJKz_tZ6",
        "colab_type": "code",
        "colab": {}
      },
      "source": [
        "def mse(y_hat, y): return ((y_hat - y) ** 2).mean() # считаем СКО вручную"
      ],
      "execution_count": 0,
      "outputs": []
    },
    {
      "cell_type": "markdown",
      "metadata": {
        "id": "ECc7hsNh_tZ9",
        "colab_type": "text"
      },
      "source": [
        "Исходно мы принимаем, что наш искомый коэффециент `a = (-1.0,1.0)`, после чего считаем `y_hat` -- это наш *прогноз*, и оцениваем ошибку."
      ]
    },
    {
      "cell_type": "code",
      "metadata": {
        "id": "QRXdrW0J_tZ-",
        "colab_type": "code",
        "colab": {}
      },
      "source": [
        "a = tensor(-1.,1) # начальная версия искомого коэффициента линейной регрессии"
      ],
      "execution_count": 0,
      "outputs": []
    },
    {
      "cell_type": "code",
      "metadata": {
        "id": "YbP6EFc-_taB",
        "colab_type": "code",
        "outputId": "ad2e3809-cb85-40e9-c83b-797df480835e",
        "colab": {
          "base_uri": "https://localhost:8080/",
          "height": 34
        }
      },
      "source": [
        "y_hat = x @ a\n",
        "mse(y_hat, y) # результирующий лосс"
      ],
      "execution_count": 0,
      "outputs": [
        {
          "output_type": "execute_result",
          "data": {
            "text/plain": [
              "tensor(8.3280)"
            ]
          },
          "metadata": {
            "tags": []
          },
          "execution_count": 10
        }
      ]
    },
    {
      "cell_type": "code",
      "metadata": {
        "id": "45Xsilu7_taF",
        "colab_type": "code",
        "outputId": "3a7f24dd-80ae-4e3a-8f1b-06640d25ae5a",
        "colab": {
          "base_uri": "https://localhost:8080/",
          "height": 268
        }
      },
      "source": [
        "plt.scatter(x[:,0],y)\n",
        "plt.scatter(x[:,0],y_hat); # посмотрим на нашу аппроксимацию"
      ],
      "execution_count": 0,
      "outputs": [
        {
          "output_type": "display_data",
          "data": {
            "image/png": "[encoded data removed]",
            "text/plain": [
              "<Figure size 432x288 with 1 Axes>"
            ]
          },
          "metadata": {
            "tags": []
          }
        }
      ]
    },
    {
      "cell_type": "markdown",
      "metadata": {
        "id": "ftkbLmzr_taN",
        "colab_type": "text"
      },
      "source": [
        "Как видно, пока ничего похожего не получено. Но мы уже выбрали некую *модель* (линейную регрессию), которая предположительно хорошо подойдёт для аппроксимации, и подобрали *критерий оценки* (или *лосс*). Теперь нам нужно организовать некоторый процесс *оптимизации*, который автоматически подберёт наиболее подходящее значение `a`."
      ]
    },
    {
      "cell_type": "markdown",
      "metadata": {
        "id": "6n-LPN1l_taO",
        "colab_type": "text"
      },
      "source": [
        "# Градиентный спуск"
      ]
    },
    {
      "cell_type": "markdown",
      "metadata": {
        "id": "PDxhhBhb_taP",
        "colab_type": "text"
      },
      "source": [
        "Итак, нам надо подобрать такое значение `a`, чтобы результат `mse_loss` был минимальным.\n",
        "\n",
        "**Градиентный спуск** -- это алгоритм минимизации функций. Получая функцию с набором параметров, градиентный спуск начинает с некоего начального набора этих параметров, и затем начинает понемногу, по шагам, менять эти параметры, наблюдая, как меняется результат функции, и начинает каждую новую итерацию с наименьшего достигнутого на данный момент результата.\n",
        "\n",
        "Вкратце вспомним, как этот алгоритм реализован в оригинальном PyTorch.\n",
        "(см. второе занятие \n",
        "https://colab.research.google.com/drive/1YsocuZEDdffAQr5NUeeP1U51ei6Txy56\n"
      ]
    },
    {
      "cell_type": "code",
      "metadata": {
        "id": "qVoBa77v_taQ",
        "colab_type": "code",
        "outputId": "94600075-494b-4d02-ffae-3179ee6a1a34",
        "colab": {
          "base_uri": "https://localhost:8080/",
          "height": 51
        }
      },
      "source": [
        "a = nn.Parameter(a); a # переводим тензор 'a' в формальный параметр PyTorch"
      ],
      "execution_count": 0,
      "outputs": [
        {
          "output_type": "execute_result",
          "data": {
            "text/plain": [
              "Parameter containing:\n",
              "tensor([-1.,  1.], requires_grad=True)"
            ]
          },
          "metadata": {
            "tags": []
          },
          "execution_count": 12
        }
      ]
    },
    {
      "cell_type": "code",
      "metadata": {
        "id": "n9L40AZ3_taT",
        "colab_type": "code",
        "colab": {}
      },
      "source": [
        "def update(): # один шаг алгоритма -- подробности см. в ноутбуке выше\n",
        "    y_hat = x @ a\n",
        "    loss = mse(y, y_hat)\n",
        "    if t % 10 == 0: print(loss)\n",
        "    loss.backward()\n",
        "    with torch.no_grad():\n",
        "        a.sub_(lr * a.grad)\n",
        "        a.grad.zero_()"
      ],
      "execution_count": 0,
      "outputs": []
    },
    {
      "cell_type": "code",
      "metadata": {
        "id": "MX1fNGuk_taX",
        "colab_type": "code",
        "colab": {}
      },
      "source": [
        "lr = 1e-1 # скорость обучения\n",
        "for t in range(100): update()"
      ],
      "execution_count": 0,
      "outputs": []
    },
    {
      "cell_type": "code",
      "metadata": {
        "id": "VLLNdMJ__taa",
        "colab_type": "code",
        "outputId": "6bdac8e4-7817-42db-b7bc-2f3797ae34c8",
        "colab": {
          "base_uri": "https://localhost:8080/",
          "height": 268
        }
      },
      "source": [
        "plt.scatter(x[:,0], y)\n",
        "plt.scatter(x[:,0], (x @ a).detach().numpy()); # из тензора в формат numpy"
      ],
      "execution_count": 0,
      "outputs": [
        {
          "output_type": "display_data",
          "data": {
            "image/png": "[encoded data removed]",
            "text/plain": [
              "<Figure size 432x288 with 1 Axes>"
            ]
          },
          "metadata": {
            "tags": []
          }
        }
      ]
    },
    {
      "cell_type": "markdown",
      "metadata": {
        "id": "oIW1N2Amqbqh",
        "colab_type": "text"
      },
      "source": [
        "Как видно, теперь мы получили отличный результат!"
      ]
    },
    {
      "cell_type": "markdown",
      "metadata": {
        "id": "e1HRvmLC_tae",
        "colab_type": "text"
      },
      "source": [
        "## Добавим процессу обучения анимацию"
      ]
    },
    {
      "cell_type": "code",
      "metadata": {
        "id": "vK4hcvqq_taf",
        "colab_type": "code",
        "colab": {}
      },
      "source": [
        "from matplotlib import animation, rc\n",
        "rc('animation', html='jshtml')"
      ],
      "execution_count": 0,
      "outputs": []
    },
    {
      "cell_type": "code",
      "metadata": {
        "id": "PfBGJTkK_tai",
        "colab_type": "code",
        "colab": {}
      },
      "source": [
        "a = nn.Parameter(tensor(-1.,1))\n",
        "\n",
        "fig = plt.figure()\n",
        "plt.scatter(x[:,0], y, c='orange')\n",
        "line, = plt.plot(x[:,0], (x @ a).detach().numpy())\n",
        "plt.close()\n",
        "\n",
        "def animate(i):\n",
        "    update()\n",
        "    line.set_ydata((x @ a).detach().numpy())\n",
        "    return line,\n",
        "\n",
        "animation.FuncAnimation(fig, animate, np.arange(0, 100), interval=20)"
      ],
      "execution_count": 0,
      "outputs": []
    },
    {
      "cell_type": "markdown",
      "metadata": {
        "id": "STmCATK2_tao",
        "colab_type": "text"
      },
      "source": [
        "Процесс обучения представлен в видеоформате.\n",
        "\n",
        "На практике обычно весь датасет не обрабатывается целиком, а используются мини-пакеты.\n"
      ]
    },
    {
      "cell_type": "markdown",
      "metadata": {
        "id": "O3hJED21_tap",
        "colab_type": "text"
      },
      "source": [
        "## Словарик"
      ]
    },
    {
      "cell_type": "markdown",
      "metadata": {
        "id": "l52phPjP_taq",
        "colab_type": "text"
      },
      "source": [
        "- Learning rate -- скорость обучения\n",
        "- Epoch -- эпоха (итерация, шаг обучения)\n",
        "- Minibatch -- мини-пакет (часть датасета)\n",
        "- SGD -- стохастический градиентный спуск \n",
        "- Model -- модель \n",
        "- Parameters -- параметры\n",
        "- Loss function -- лосс, функция ошибки\n",
        "\n",
        "В задачах классификации чаще всего используется такой лосс, как *кросс-энтропия* (*cross entropy loss*, мера расхождения между вероятностными распределениями), известная также как отрицательная функция правдоподобия *negative log likelihood loss*. Она \"штрафует\" некорректные \"достоверные\" прогнозы и исправляет недостоверные прогнозы.\n"
      ]
    }
  ]
}